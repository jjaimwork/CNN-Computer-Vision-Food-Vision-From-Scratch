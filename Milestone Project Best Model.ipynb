{
 "cells": [
  {
   "cell_type": "code",
   "execution_count": 1,
   "id": "38f58231",
   "metadata": {},
   "outputs": [
    {
     "name": "stdout",
     "output_type": "stream",
     "text": [
      "INFO:tensorflow:Mixed precision compatibility check (mixed_float16): OK\n",
      "Your GPU will likely run quickly with dtype policy mixed_float16 as it has compute capability of at least 7.0. Your GPU: NVIDIA GeForce RTX 2060, compute capability 7.5\n"
     ]
    }
   ],
   "source": [
    "from sklearn.metrics import confusion_matrix, classification_report,accuracy_score\n",
    "import itertools\n",
    "from tqdm import tqdm\n",
    "\n",
    "import tensorflow as tf\n",
    "import pandas as pd\n",
    "import numpy as np\n",
    "import random\n",
    "import os\n",
    "from glob import glob\n",
    "import time, datetime\n",
    "\n",
    "import matplotlib.pyplot as plt\n",
    "import matplotlib.image as mpimg\n",
    "import datetime\n",
    "%load_ext tensorboard\n",
    "\n",
    "from tensorflow.keras import mixed_precision\n",
    "mixed_precision.set_global_policy(policy=\"mixed_float16\")\n",
    "\n",
    "from helper_functions import plot_compare_history, plot_confusion_matrix, plot_history_curves, plot_random_image\n",
    "from helper_functions import create_checkpoint_callback, create_early_stopping_callback, create_reduce_lr_callback, create_tensorboard_callback"
   ]
  },
  {
   "cell_type": "code",
   "execution_count": 2,
   "id": "b1f529f4",
   "metadata": {},
   "outputs": [],
   "source": [
    "train_101_100_dir = './Food-Vision-REDO/datasets/food_101/train/'\n",
    "train_101_50_dir = './Food-Vision-REDO/datasets/food_101/train_50/'\n",
    "train_101_20_dir = './Food-Vision-REDO/datasets/food_101/train_20/'\n",
    "train_101_10_dir = './Food-Vision-REDO/datasets/food_101/train_10/'\n",
    "test_101_dir = './Food-Vision-REDO/datasets/food_101/test/'\n",
    "food_101_dir = './Food-Vision-REDO/datasets/food_101/'"
   ]
  },
  {
   "cell_type": "code",
   "execution_count": 3,
   "id": "b805da5a",
   "metadata": {},
   "outputs": [],
   "source": [
    "checkpoint_path = './Food-Vision-REDO/checkpoint/'\n",
    "tensorboard_path = './Food-Vision-REDO/transfer_learning/'\n",
    "\n",
    "earlystopping_callback = create_early_stopping_callback(\n",
    "    metric='val_accuracy',\n",
    "    patience=3\n",
    ")\n",
    "\n",
    "checkpoint_callback = create_checkpoint_callback(\n",
    "    checkpoint_path=checkpoint_path,\n",
    "    metric='val_loss',\n",
    "    save_best=True,\n",
    "    save_weights=True,\n",
    ")\n",
    "\n",
    "lr_callback = create_reduce_lr_callback(\n",
    "    metric=\"val_loss\",\n",
    "    factor=0.1,\n",
    "    patience=2,\n",
    "    verbose=1,\n",
    "    min_lr=1e-7\n",
    ")\n"
   ]
  },
  {
   "cell_type": "code",
   "execution_count": 4,
   "id": "afeb537c",
   "metadata": {},
   "outputs": [
    {
     "name": "stdout",
     "output_type": "stream",
     "text": [
      "Found 75750 files belonging to 101 classes.\n",
      "Found 25250 files belonging to 101 classes.\n"
     ]
    }
   ],
   "source": [
    "IMG_SIZE=(224,224)\n",
    "\n",
    "train_data_100_percent = tf.keras.preprocessing.image_dataset_from_directory(\n",
    "    train_101_100_dir,\n",
    "    label_mode='categorical',\n",
    "    image_size=IMG_SIZE,\n",
    "    batch_size=32\n",
    ").prefetch(tf.data.AUTOTUNE)\n",
    "\n",
    "test_data = tf.keras.preprocessing.image_dataset_from_directory(\n",
    "    test_101_dir,\n",
    "    label_mode='categorical',\n",
    "    image_size=IMG_SIZE,\n",
    "    shuffle=False,\n",
    "    batch_size=32\n",
    ").prefetch(tf.data.AUTOTUNE)"
   ]
  },
  {
   "cell_type": "code",
   "execution_count": 5,
   "id": "5ba7146a",
   "metadata": {},
   "outputs": [],
   "source": [
    "class_list_all = glob(os.path.join(test_101_dir, '*',))\n",
    "class_list_all = [i.split('\\\\')[-1] for i in class_list_all]\n",
    "class_list_all;"
   ]
  },
  {
   "cell_type": "code",
   "execution_count": 6,
   "id": "fd394982",
   "metadata": {},
   "outputs": [],
   "source": [
    "data_augmentation = tf.keras.Sequential([\n",
    "    tf.keras.layers.RandomFlip('horizontal'),\n",
    "    tf.keras.layers.RandomHeight(0.2),\n",
    "    tf.keras.layers.RandomRotation(0.2),\n",
    "    tf.keras.layers.RandomWidth(0.2),\n",
    "    tf.keras.layers.RandomZoom(0.2),\n",
    "    #tf.keras.layers.Rescaling(1./255), # no need for Effnet\n",
    "])"
   ]
  },
  {
   "cell_type": "code",
   "execution_count": 7,
   "id": "7c6a9c1a",
   "metadata": {},
   "outputs": [],
   "source": [
    "base_model = tf.keras.applications.EfficientNetB4(include_top=False)\n",
    "base_model.trainable = False\n",
    "\n",
    "inputs = tf.keras.Input(shape=IMG_SIZE+(3,), name='input_layer')\n",
    "#x = data_augmentation(inputs)\n",
    "x = base_model(inputs, training=False)\n",
    "x = tf.keras.layers.GlobalAveragePooling2D(name='global_avg_pooling')(x)\n",
    "x = tf.keras.layers.Dense(len(class_list_all), name='dense_layer')(x)\n",
    "outputs = tf.keras.layers.Activation('softmax', dtype=tf.float32, name='output_layer')(x)\n",
    "\n",
    "model_2 = tf.keras.Model(inputs, outputs)\n",
    "\n",
    "model_2.compile(loss=tf.keras.losses.CategoricalCrossentropy(),\n",
    "                optimizer=tf.keras.optimizers.Adam(0.001),\n",
    "                metrics=['accuracy'])\n"
   ]
  },
  {
   "cell_type": "code",
   "execution_count": 8,
   "id": "f0311dac",
   "metadata": {},
   "outputs": [],
   "source": [
    "model_checkpoint_path = checkpoint_path + 'base_model_effnetb4.h5'"
   ]
  },
  {
   "cell_type": "code",
   "execution_count": 9,
   "id": "7c48149b",
   "metadata": {},
   "outputs": [
    {
     "data": {
      "text/plain": [
       "'./Food-Vision-REDO/checkpoint/base_model_effnetb4.h5'"
      ]
     },
     "execution_count": 9,
     "metadata": {},
     "output_type": "execute_result"
    }
   ],
   "source": [
    "model_checkpoint_path"
   ]
  },
  {
   "cell_type": "code",
   "execution_count": 10,
   "id": "ff63c8b4",
   "metadata": {},
   "outputs": [
    {
     "data": {
      "text/plain": [
       "<keras.callbacks.ModelCheckpoint at 0x17f4456c310>"
      ]
     },
     "execution_count": 10,
     "metadata": {},
     "output_type": "execute_result"
    }
   ],
   "source": [
    "create_checkpoint_callback(\n",
    "    checkpoint_path=model_checkpoint_path,\n",
    "    metric='val_loss',\n",
    "    save_best=True,\n",
    "    save_weights=True,\n",
    ")\n"
   ]
  },
  {
   "cell_type": "code",
   "execution_count": 11,
   "id": "28d2eefa",
   "metadata": {},
   "outputs": [
    {
     "name": "stdout",
     "output_type": "stream",
     "text": [
      "Epoch 1/5\n",
      "2368/2368 [==============================] - ETA: 0s - loss: 1.8133 - accuracy: 0.5503\n",
      "Epoch 00001: val_loss improved from inf to 1.58943, saving model to ./Food-Vision-REDO/checkpoint\\\n",
      "2368/2368 [==============================] - 264s 107ms/step - loss: 1.8133 - accuracy: 0.5503 - val_loss: 1.5894 - val_accuracy: 0.5967\n",
      "Epoch 2/5\n",
      "2367/2368 [============================>.] - ETA: 0s - loss: 1.3337 - accuracy: 0.6515\n",
      "Epoch 00002: val_loss improved from 1.58943 to 1.48206, saving model to ./Food-Vision-REDO/checkpoint\\\n",
      "2368/2368 [==============================] - 251s 106ms/step - loss: 1.3337 - accuracy: 0.6515 - val_loss: 1.4821 - val_accuracy: 0.6258\n",
      "Epoch 3/5\n",
      "2367/2368 [============================>.] - ETA: 0s - loss: 1.1868 - accuracy: 0.6868\n",
      "Epoch 00003: val_loss improved from 1.48206 to 1.45364, saving model to ./Food-Vision-REDO/checkpoint\\\n",
      "2368/2368 [==============================] - 251s 106ms/step - loss: 1.1868 - accuracy: 0.6868 - val_loss: 1.4536 - val_accuracy: 0.6306\n",
      "Epoch 4/5\n",
      "2367/2368 [============================>.] - ETA: 0s - loss: 1.0876 - accuracy: 0.7124\n",
      "Epoch 00004: val_loss did not improve from 1.45364\n",
      "2368/2368 [==============================] - 249s 105ms/step - loss: 1.0875 - accuracy: 0.7124 - val_loss: 1.4670 - val_accuracy: 0.6311\n",
      "Epoch 5/5\n",
      "2367/2368 [============================>.] - ETA: 0s - loss: 1.0122 - accuracy: 0.7308\n",
      "Epoch 00005: val_loss improved from 1.45364 to 1.42846, saving model to ./Food-Vision-REDO/checkpoint\\\n",
      "2368/2368 [==============================] - 255s 107ms/step - loss: 1.0123 - accuracy: 0.7308 - val_loss: 1.4285 - val_accuracy: 0.6396\n"
     ]
    }
   ],
   "source": [
    "model_2_history = model_2.fit(\n",
    "    train_data_100_percent,\n",
    "    epochs=5,\n",
    "    steps_per_epoch=len(train_data_100_percent),\n",
    "    validation_data=test_data,\n",
    "    validation_steps=int(0.15*len(test_data)),\n",
    "    callbacks=[checkpoint_callback]\n",
    ")"
   ]
  },
  {
   "cell_type": "code",
   "execution_count": 12,
   "id": "ca418c3f",
   "metadata": {},
   "outputs": [
    {
     "name": "stdout",
     "output_type": "stream",
     "text": [
      "790/790 [==============================] - 80s 101ms/step - loss: 1.3749 - accuracy: 0.6480\n"
     ]
    },
    {
     "data": {
      "text/plain": [
       "[1.3748629093170166, 0.6480395793914795]"
      ]
     },
     "execution_count": 12,
     "metadata": {},
     "output_type": "execute_result"
    }
   ],
   "source": [
    "model_2.evaluate(test_data)"
   ]
  },
  {
   "cell_type": "code",
   "execution_count": 13,
   "id": "49691612",
   "metadata": {},
   "outputs": [
    {
     "name": "stderr",
     "output_type": "stream",
     "text": [
      "C:\\Users\\gilgamesh\\Anaconda3\\lib\\site-packages\\keras\\engine\\functional.py:1410: CustomMaskWarning: Custom mask layers require a config and must override get_config. When loading, the custom mask layer must be passed to the custom_objects argument.\n",
      "  layer_config = serialize_layer_fn(layer)\n"
     ]
    }
   ],
   "source": [
    "model_2.save('./Food-Vision-REDO/models/efficientneb4_base_model.h5')\n",
    "model_2.save_weights('./Food-Vision-REDO/weights/efficientneb4_base_model.h5')"
   ]
  },
  {
   "cell_type": "code",
   "execution_count": 17,
   "id": "8722373a",
   "metadata": {},
   "outputs": [],
   "source": [
    "loaded_model = tf.keras.models.load_model('./Food-Vision-REDO/models/efficientneb4_base_model.h5')\n",
    "loaded_model.load_weights('./Food-Vision-REDO/weights/efficientneb4_base_model.h5')"
   ]
  },
  {
   "cell_type": "code",
   "execution_count": 18,
   "id": "1780f956",
   "metadata": {},
   "outputs": [
    {
     "name": "stdout",
     "output_type": "stream",
     "text": [
      "790/790 [==============================] - 114s 140ms/step - loss: 2.1155 - accuracy: 0.4949\n"
     ]
    },
    {
     "data": {
      "text/plain": [
       "[2.1154892444610596, 0.4948514997959137]"
      ]
     },
     "execution_count": 18,
     "metadata": {},
     "output_type": "execute_result"
    }
   ],
   "source": [
    "loaded_model.evaluate(test_data)"
   ]
  },
  {
   "cell_type": "code",
   "execution_count": 29,
   "id": "ea146b68",
   "metadata": {},
   "outputs": [],
   "source": [
    "for layer in model_2.layers:\n",
    "    layer.trainable = True\n",
    "\n",
    "    \n",
    "model_2.compile(loss=tf.keras.losses.CategoricalCrossentropy(),\n",
    "                     optimizer=tf.keras.optimizers.Adam(0.0001),\n",
    "                     metrics=[\"accuracy\"])"
   ]
  },
  {
   "cell_type": "code",
   "execution_count": 25,
   "id": "24d8246c",
   "metadata": {},
   "outputs": [],
   "source": [
    "checkpoint_path = './Food-Vision-REDO/checkpoint/'"
   ]
  },
  {
   "cell_type": "code",
   "execution_count": 26,
   "id": "6eb8b3c9",
   "metadata": {},
   "outputs": [],
   "source": [
    "checkpoint_tune_path = checkpoint_path + 'fine_tune_checkpoints/efficientneb4_fine_tune_augmented.h5'\n",
    "#checkpoint_callback = create_checkpoint_callback(checkpoint_path=checkpoint_path,metric='val_loss',save_best=True)\n",
    "\n",
    "checkpoint_callback = tf.keras.callbacks.ModelCheckpoint(\n",
    "    checkpoint_tune_path,\n",
    "    monitor='val_loss',\n",
    "    save_best_only=True,\n",
    "    save_weights_only=True\n",
    "                                                        )"
   ]
  },
  {
   "cell_type": "code",
   "execution_count": 27,
   "id": "1b2bd160",
   "metadata": {},
   "outputs": [
    {
     "data": {
      "text/plain": [
       "'./Food-Vision-REDO/checkpoint/fine_tune_checkpoints/efficientneb4_fine_tune_augmented.h5'"
      ]
     },
     "execution_count": 27,
     "metadata": {},
     "output_type": "execute_result"
    }
   ],
   "source": [
    "checkpoint_tune_path"
   ]
  },
  {
   "cell_type": "code",
   "execution_count": 30,
   "id": "f46f7cfe",
   "metadata": {},
   "outputs": [
    {
     "name": "stdout",
     "output_type": "stream",
     "text": [
      "Saving Tensorboard logfiles to ./Food-Vision-REDO/transfer_learning//logs/fits/efficientnetb4_101_fine_tuning/20211118-194953\n",
      "Epoch 1/50\n",
      "2368/2368 [==============================] - 887s 363ms/step - loss: 0.8301 - accuracy: 0.7716 - val_loss: 0.9923 - val_accuracy: 0.7338 - lr: 1.0000e-04\n",
      "Epoch 2/50\n",
      "2368/2368 [==============================] - 865s 365ms/step - loss: 0.2978 - accuracy: 0.9156 - val_loss: 1.1750 - val_accuracy: 0.7259 - lr: 1.0000e-04\n",
      "Epoch 3/50\n",
      "2368/2368 [==============================] - ETA: 0s - loss: 0.1161 - accuracy: 0.9641\n",
      "Epoch 00003: ReduceLROnPlateau reducing learning rate to 9.999999747378752e-06.\n",
      "2368/2368 [==============================] - 861s 364ms/step - loss: 0.1161 - accuracy: 0.9641 - val_loss: 1.3644 - val_accuracy: 0.7323 - lr: 1.0000e-04\n",
      "Epoch 4/50\n",
      "2368/2368 [==============================] - 879s 371ms/step - loss: 0.0332 - accuracy: 0.9905 - val_loss: 1.3182 - val_accuracy: 0.7635 - lr: 1.0000e-05\n",
      "Epoch 5/50\n",
      "2368/2368 [==============================] - ETA: 0s - loss: 0.0047 - accuracy: 0.9997\n",
      "Epoch 00005: ReduceLROnPlateau reducing learning rate to 9.999999747378752e-07.\n",
      "2368/2368 [==============================] - 861s 363ms/step - loss: 0.0047 - accuracy: 0.9997 - val_loss: 1.5336 - val_accuracy: 0.7696 - lr: 1.0000e-05\n",
      "Epoch 6/50\n",
      "2368/2368 [==============================] - 834s 352ms/step - loss: 0.0016 - accuracy: 0.9999 - val_loss: 1.5811 - val_accuracy: 0.7675 - lr: 1.0000e-06\n",
      "Epoch 7/50\n",
      "2368/2368 [==============================] - ETA: 0s - loss: 0.0012 - accuracy: 0.9999\n",
      "Epoch 00007: ReduceLROnPlateau reducing learning rate to 1e-07.\n",
      "2368/2368 [==============================] - 834s 352ms/step - loss: 0.0012 - accuracy: 0.9999 - val_loss: 1.6472 - val_accuracy: 0.7672 - lr: 1.0000e-06\n",
      "Epoch 8/50\n",
      "2368/2368 [==============================] - 882s 372ms/step - loss: 8.3642e-04 - accuracy: 1.0000 - val_loss: 1.6569 - val_accuracy: 0.7667 - lr: 1.0000e-07\n"
     ]
    }
   ],
   "source": [
    "history_efficientnetb4_101_fine_tuning = model_2.fit(train_data_100_percent,\n",
    "                                                        epochs=50, # fine-tune for a maximum of 100 epochs\n",
    "                                                        steps_per_epoch=len(train_data_100_percent),\n",
    "                                                        validation_data=test_data,\n",
    "                                                        validation_steps=int(0.15 * len(test_data)), # validation during training on 15% of test data\n",
    "                                                        callbacks=[\n",
    "                                                            lr_callback,\n",
    "                                                            earlystopping_callback,\n",
    "                                                            checkpoint_callback, \n",
    "                                                            create_tensorboard_callback(\n",
    "                                                                dir_name=tensorboard_path,\n",
    "                                                                experiment_name='efficientnetb4_101_fine_tuning')])"
   ]
  },
  {
   "cell_type": "code",
   "execution_count": 31,
   "id": "9a79a4c8",
   "metadata": {},
   "outputs": [
    {
     "data": {
      "image/png": "[encoded data removed]",
      "text/plain": [
       "<Figure size 432x288 with 1 Axes>"
      ]
     },
     "metadata": {
      "needs_background": "light"
     },
     "output_type": "display_data"
    },
    {
     "data": {
      "image/png": "[encoded data removed]",
      "text/plain": [
       "<Figure size 432x288 with 1 Axes>"
      ]
     },
     "metadata": {
      "needs_background": "light"
     },
     "output_type": "display_data"
    }
   ],
   "source": [
    "plot_history_curves(history_efficientnetb4_101_fine_tuning)"
   ]
  },
  {
   "cell_type": "code",
   "execution_count": 32,
   "id": "20d207fc",
   "metadata": {},
   "outputs": [
    {
     "name": "stdout",
     "output_type": "stream",
     "text": [
      "790/790 [==============================] - 81s 102ms/step - loss: 1.5326 - accuracy: 0.7802\n"
     ]
    },
    {
     "data": {
      "text/plain": [
       "[1.5325756072998047, 0.7801584005355835]"
      ]
     },
     "execution_count": 32,
     "metadata": {},
     "output_type": "execute_result"
    }
   ],
   "source": [
    "model_2.evaluate(test_data)"
   ]
  },
  {
   "cell_type": "code",
   "execution_count": null,
   "id": "95b729fb",
   "metadata": {},
   "outputs": [
    {
     "name": "stdout",
     "output_type": "stream",
     "text": [
      "INFO:tensorflow:Assets written to: efficientnetb4_best_model\\assets\n"
     ]
    }
   ],
   "source": [
    "model_2.save('efficientnetb4_best_model')"
   ]
  },
  {
   "cell_type": "code",
   "execution_count": null,
   "id": "f46f1af4",
   "metadata": {},
   "outputs": [],
   "source": []
  }
 ],
 "metadata": {
  "kernelspec": {
   "display_name": "Python 3",
   "language": "python",
   "name": "python3"
  },
  "language_info": {
   "codemirror_mode": {
    "name": "ipython",
    "version": 3
   },
   "file_extension": ".py",
   "mimetype": "text/x-python",
   "name": "python",
   "nbconvert_exporter": "python",
   "pygments_lexer": "ipython3",
   "version": "3.8.8"
  },
  "toc": {
   "base_numbering": 1,
   "nav_menu": {},
   "number_sections": true,
   "sideBar": true,
   "skip_h1_title": false,
   "title_cell": "Table of Contents",
   "title_sidebar": "Contents",
   "toc_cell": false,
   "toc_position": {},
   "toc_section_display": true,
   "toc_window_display": false
  }
 },
 "nbformat": 4,
 "nbformat_minor": 5
}
