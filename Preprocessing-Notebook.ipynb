{
 "cells": [
  {
   "cell_type": "code",
   "execution_count": 1,
   "id": "59fc0f26",
   "metadata": {},
   "outputs": [],
   "source": [
    "### OBJECTIVES ###\n",
    "\n",
    "# All in random\n",
    "# Select 10 classes \n",
    "# Generate training samples, test samples\n",
    "# Generate 1 percent of the data 10 classes\n",
    "# Generate 10 percent of the data 5 classes\n",
    "# Generate 100 percent of the data 10 classes\n",
    "\n",
    "import os\n",
    "from glob import glob\n",
    "import numpy as np\n",
    "from distutils.dir_util import copy_tree\n",
    "from sklearn.model_selection import train_test_split\n",
    "import shutil\n",
    "import random\n",
    "import pandas as pd\n",
    "from collections import ChainMap\n",
    "\n",
    "import json\n",
    "from tqdm.notebook import tqdm"
   ]
  },
  {
   "cell_type": "markdown",
   "id": "d21624f2",
   "metadata": {},
   "source": [
    "### Select 10 classes"
   ]
  },
  {
   "cell_type": "code",
   "execution_count": 2,
   "id": "4263ec66",
   "metadata": {},
   "outputs": [],
   "source": [
    "# Dataset dir\n",
    "dataset_dir = '../../Datasets/food-101/images/'"
   ]
  },
  {
   "cell_type": "code",
   "execution_count": 3,
   "id": "64a7f1eb",
   "metadata": {},
   "outputs": [],
   "source": [
    "class_list_all = glob(os.path.join(dataset_dir, '*',))\n",
    "class_list_all = [i.split('\\\\')[-1] for i in class_list_all]\n",
    "class_list_all;"
   ]
  },
  {
   "cell_type": "code",
   "execution_count": 4,
   "id": "fe47a512",
   "metadata": {},
   "outputs": [],
   "source": [
    "# generate 10 classes\n",
    "np.random.seed(42)\n",
    "counter = 0\n",
    "class_list_10 = []\n",
    "\n",
    "while counter != 10:\n",
    "    if np.random.choice(class_list_all) not in class_list_10:        \n",
    "        class_list_10.append(np.random.choice(class_list_all))\n",
    "        counter +=1\n"
   ]
  },
  {
   "cell_type": "code",
   "execution_count": 5,
   "id": "5c78993f",
   "metadata": {},
   "outputs": [
    {
     "name": "stdout",
     "output_type": "stream",
     "text": [
      "Copying Done\n",
      "Copying Done\n",
      "Copying Done\n",
      "Copying Done\n",
      "Copying Done\n",
      "Copying Done\n",
      "Copying Done\n",
      "Copying Done\n",
      "Copying Done\n",
      "Copying Done\n"
     ]
    }
   ],
   "source": [
    "for name in class_list_10:\n",
    "    image_dir = dataset_dir + name\n",
    "    paste_dir = '../../Datasets/10_classes_food/'\n",
    "    copy_tree(image_dir, '../../Datasets/10_classes_food/'+name)\n",
    "    print('Copying Done')\n"
   ]
  },
  {
   "cell_type": "code",
   "execution_count": 6,
   "id": "5f1063fb",
   "metadata": {},
   "outputs": [
    {
     "name": "stdout",
     "output_type": "stream",
     "text": [
      "There are 10 directories and 0 images in '../../Datasets/10_classes_food/'.\n",
      "There are 0 directories and 1000 images in '../../Datasets/10_classes_food/baklava'.\n",
      "There are 0 directories and 1000 images in '../../Datasets/10_classes_food/chicken_wings'.\n",
      "There are 0 directories and 1000 images in '../../Datasets/10_classes_food/filet_mignon'.\n",
      "There are 0 directories and 1000 images in '../../Datasets/10_classes_food/gyoza'.\n",
      "There are 0 directories and 1000 images in '../../Datasets/10_classes_food/paella'.\n",
      "There are 0 directories and 1000 images in '../../Datasets/10_classes_food/peking_duck'.\n",
      "There are 0 directories and 1000 images in '../../Datasets/10_classes_food/sashimi'.\n",
      "There are 0 directories and 1000 images in '../../Datasets/10_classes_food/scallops'.\n",
      "There are 0 directories and 1000 images in '../../Datasets/10_classes_food/spring_rolls'.\n",
      "There are 0 directories and 1000 images in '../../Datasets/10_classes_food/tuna_tartare'.\n",
      "Total num of files 10000\n"
     ]
    }
   ],
   "source": [
    "total_files = []\n",
    "\n",
    "for dirpath, dirnames, filenames in os.walk(\"../../Datasets/10_classes_food/\"):\n",
    "    print(f\"There are {len(dirnames)} directories and {len(filenames)} images in '{dirpath}'.\")\n",
    "    total_files.append(len(filenames))\n",
    "\n",
    "print(f'Total num of files {sum(total_files)}')"
   ]
  },
  {
   "cell_type": "markdown",
   "id": "5d317b10",
   "metadata": {},
   "source": [
    "### Generating a dictionary"
   ]
  },
  {
   "cell_type": "code",
   "execution_count": 7,
   "id": "1cd15496",
   "metadata": {},
   "outputs": [
    {
     "data": {
      "text/plain": [
       "['spring_rolls',\n",
       " 'paella',\n",
       " 'chicken_wings',\n",
       " 'sashimi',\n",
       " 'peking_duck',\n",
       " 'tuna_tartare',\n",
       " 'baklava',\n",
       " 'gyoza',\n",
       " 'scallops',\n",
       " 'filet_mignon']"
      ]
     },
     "execution_count": 7,
     "metadata": {},
     "output_type": "execute_result"
    }
   ],
   "source": [
    "class_list_10"
   ]
  },
  {
   "cell_type": "code",
   "execution_count": 8,
   "id": "90d9f110",
   "metadata": {},
   "outputs": [],
   "source": [
    "# Append each class file in a dictionary list\n",
    "# get the length of the string\n",
    "# random choice of 10%"
   ]
  },
  {
   "cell_type": "code",
   "execution_count": 9,
   "id": "b3aea27a",
   "metadata": {},
   "outputs": [],
   "source": [
    "food_10_dict = {}\n",
    "for classes_ in class_list_10:\n",
    "    food_10_dict[classes_] = []"
   ]
  },
  {
   "cell_type": "code",
   "execution_count": 10,
   "id": "99c84bb8",
   "metadata": {},
   "outputs": [
    {
     "data": {
      "text/plain": [
       "{'spring_rolls': [],\n",
       " 'paella': [],\n",
       " 'chicken_wings': [],\n",
       " 'sashimi': [],\n",
       " 'peking_duck': [],\n",
       " 'tuna_tartare': [],\n",
       " 'baklava': [],\n",
       " 'gyoza': [],\n",
       " 'scallops': [],\n",
       " 'filet_mignon': []}"
      ]
     },
     "execution_count": 10,
     "metadata": {},
     "output_type": "execute_result"
    }
   ],
   "source": [
    "food_10_dict"
   ]
  },
  {
   "cell_type": "code",
   "execution_count": 11,
   "id": "d1a57fd5",
   "metadata": {},
   "outputs": [],
   "source": [
    "for class_name, list_ in food_10_dict.items():\n",
    "    for filenames in os.listdir(f'../../Datasets/10_classes_food/{class_name}'):\n",
    "        list_.append(filenames)"
   ]
  },
  {
   "cell_type": "code",
   "execution_count": 12,
   "id": "77602d0a",
   "metadata": {
    "scrolled": false
   },
   "outputs": [],
   "source": [
    "food_10_dict;"
   ]
  },
  {
   "cell_type": "markdown",
   "id": "3662b3d0",
   "metadata": {},
   "source": [
    "### Train and Test Data\n",
    "750 on train  \n",
    "250 on test"
   ]
  },
  {
   "cell_type": "code",
   "execution_count": 13,
   "id": "be507062",
   "metadata": {},
   "outputs": [
    {
     "data": {
      "text/plain": [
       "([34324], [23424])"
      ]
     },
     "execution_count": 13,
     "metadata": {},
     "output_type": "execute_result"
    }
   ],
   "source": [
    "test = [34324], [23424]\n",
    "test"
   ]
  },
  {
   "cell_type": "code",
   "execution_count": 14,
   "id": "51e16d86",
   "metadata": {},
   "outputs": [],
   "source": [
    "# get 75% of the data\n",
    "# get 25 % of the data\n",
    "# set them on test and train"
   ]
  },
  {
   "cell_type": "code",
   "execution_count": 15,
   "id": "3dbb2a54",
   "metadata": {
    "scrolled": true
   },
   "outputs": [],
   "source": [
    "test_data_all = []\n",
    "train_data_all = []\n",
    "\n",
    "for food_name, food_data in food_10_dict.items():\n",
    "    test_data_all.append({food_name : food_10_dict[food_name][750:]})\n",
    "    train_data_all.append({food_name : food_10_dict[food_name][:750]})"
   ]
  },
  {
   "cell_type": "code",
   "execution_count": 16,
   "id": "a2949bf1",
   "metadata": {},
   "outputs": [],
   "source": [
    "test_data_all = dict(ChainMap(*test_data_all))\n",
    "train_data_all = dict(ChainMap(*train_data_all))"
   ]
  },
  {
   "cell_type": "code",
   "execution_count": 17,
   "id": "0c9e3900",
   "metadata": {},
   "outputs": [
    {
     "data": {
      "text/plain": [
       "(250, 750)"
      ]
     },
     "execution_count": 17,
     "metadata": {},
     "output_type": "execute_result"
    }
   ],
   "source": [
    "len(test_data_all['spring_rolls']), len(train_data_all['spring_rolls'])"
   ]
  },
  {
   "cell_type": "code",
   "execution_count": 18,
   "id": "5eb7c8eb",
   "metadata": {},
   "outputs": [],
   "source": [
    "source_folder = '../../Datasets/10_classes_food/'\n",
    "destination_folder = 'Food-Vision-REDO/datasets/all_data_set/train/'\n",
    "destination_folder_test = 'Food-Vision-REDO/datasets/all_data_set/test/'"
   ]
  },
  {
   "cell_type": "code",
   "execution_count": 19,
   "id": "29ef4507",
   "metadata": {},
   "outputs": [],
   "source": [
    "for i in class_list_10:\n",
    "    os.mkdir(destination_folder_test+i)    "
   ]
  },
  {
   "cell_type": "code",
   "execution_count": 20,
   "id": "3a851cab",
   "metadata": {
    "scrolled": false
   },
   "outputs": [],
   "source": [
    "for i in class_list_10:\n",
    "    os.mkdir(destination_folder+i)"
   ]
  },
  {
   "cell_type": "code",
   "execution_count": 21,
   "id": "63904f66",
   "metadata": {},
   "outputs": [
    {
     "name": "stdout",
     "output_type": "stream",
     "text": [
      "Copy Done\n",
      "Copy Done\n",
      "Copy Done\n",
      "Copy Done\n",
      "Copy Done\n",
      "Copy Done\n",
      "Copy Done\n",
      "Copy Done\n",
      "Copy Done\n",
      "Copy Done\n"
     ]
    }
   ],
   "source": [
    "for food_names in class_list_10:\n",
    "    for files in train_data_all[food_names]:\n",
    "        # construct full file path\n",
    "        source = source_folder + food_names + '/' + files\n",
    "        destination = destination_folder + food_names+ '/' + files\n",
    "        # copy only files\n",
    "        if os.path.isfile(source):\n",
    "            shutil.copy(source, destination)\n",
    "    print('Copy Done')"
   ]
  },
  {
   "cell_type": "code",
   "execution_count": 22,
   "id": "2f3e5d9b",
   "metadata": {},
   "outputs": [
    {
     "name": "stdout",
     "output_type": "stream",
     "text": [
      "Copying Done\n",
      "Copying Done\n",
      "Copying Done\n",
      "Copying Done\n",
      "Copying Done\n",
      "Copying Done\n",
      "Copying Done\n",
      "Copying Done\n",
      "Copying Done\n",
      "Copying Done\n"
     ]
    }
   ],
   "source": [
    "for food_names in class_list_10:\n",
    "    for files in test_data_all[food_names]:\n",
    "        # construct full file path\n",
    "        source = source_folder + food_names + '/' + files\n",
    "        destination = destination_folder_test + food_names+ '/' + files\n",
    "        # copy only files\n",
    "        if os.path.isfile(source):\n",
    "            shutil.copy(source, destination)\n",
    "    print('Copying Done')"
   ]
  },
  {
   "cell_type": "markdown",
   "id": "27ceb71f",
   "metadata": {},
   "source": [
    "### Generate 10% and 1% of the dataset"
   ]
  },
  {
   "cell_type": "code",
   "execution_count": 23,
   "id": "2b4e5824",
   "metadata": {},
   "outputs": [],
   "source": [
    "# generate 10\n",
    "train_data_1_percent = []\n",
    "train_data_10_percent = []\n",
    "\n",
    "for food_name, food_data in food_10_dict.items():\n",
    "    train_data_1_percent.append({food_name : food_10_dict[food_name][:10]})\n",
    "    \n",
    "for food_name, food_data in food_10_dict.items():\n",
    "    train_data_10_percent.append({food_name : food_10_dict[food_name][:100]})"
   ]
  },
  {
   "cell_type": "code",
   "execution_count": 24,
   "id": "93e22be3",
   "metadata": {},
   "outputs": [],
   "source": [
    "train_data_10_percent;"
   ]
  },
  {
   "cell_type": "code",
   "execution_count": 25,
   "id": "c2decc42",
   "metadata": {},
   "outputs": [],
   "source": [
    "def generate_test_data(files, class_list, source_folder, destination_folder, total, percentage):\n",
    "    '''\n",
    "    Generates and copies files from a directory and its different classes for training to its training location\n",
    "    \n",
    "    Parameters:\n",
    "    ---------\n",
    "    files - individual files of the class\n",
    "    source - location of original files\n",
    "    destination - location on where it's going\n",
    "    percentage - amount of training data we're going to generate\n",
    "    total - total amount of the data\n",
    "    class_list - list of classes for the destination folder\n",
    "    '''\n",
    "    \n",
    "    percentage_total = int(total * percentage/100)\n",
    "\n",
    "    for names in class_list:\n",
    "        os.mkdir(destination_folder + names)\n",
    "        for file in files[names][:percentage_total]:\n",
    "            # construct full file path\n",
    "            source = source_folder + names + '/' + file\n",
    "            destination = destination_folder + names + '/' + file\n",
    "            # copy only files\n",
    "            if os.path.isfile(source):\n",
    "                shutil.copy(source, destination)"
   ]
  },
  {
   "cell_type": "code",
   "execution_count": 27,
   "id": "9b6010e5",
   "metadata": {
    "scrolled": true
   },
   "outputs": [
    {
     "data": {
      "application/vnd.jupyter.widget-view+json": {
       "model_id": "80d43beeea294474bdeebe2a72b6e6cf",
       "version_major": 2,
       "version_minor": 0
      },
      "text/plain": [
       "  0%|          | 0/10 [00:00<?, ?it/s]"
      ]
     },
     "metadata": {},
     "output_type": "display_data"
    },
    {
     "data": {
      "application/vnd.jupyter.widget-view+json": {
       "model_id": "8f7f396d1db740c19bfb47239775cf05",
       "version_major": 2,
       "version_minor": 0
      },
      "text/plain": [
       "  0%|          | 0/10 [00:00<?, ?it/s]"
      ]
     },
     "metadata": {},
     "output_type": "display_data"
    },
    {
     "data": {
      "application/vnd.jupyter.widget-view+json": {
       "model_id": "a6d22739e9c945828ead8da59319670f",
       "version_major": 2,
       "version_minor": 0
      },
      "text/plain": [
       "  0%|          | 0/10 [00:00<?, ?it/s]"
      ]
     },
     "metadata": {},
     "output_type": "display_data"
    },
    {
     "data": {
      "application/vnd.jupyter.widget-view+json": {
       "model_id": "be1c86cf00af46af8c96ae86a5a23003",
       "version_major": 2,
       "version_minor": 0
      },
      "text/plain": [
       "  0%|          | 0/10 [00:00<?, ?it/s]"
      ]
     },
     "metadata": {},
     "output_type": "display_data"
    },
    {
     "data": {
      "application/vnd.jupyter.widget-view+json": {
       "model_id": "41b69d173265479db1cae2e9f4d90f10",
       "version_major": 2,
       "version_minor": 0
      },
      "text/plain": [
       "  0%|          | 0/10 [00:00<?, ?it/s]"
      ]
     },
     "metadata": {},
     "output_type": "display_data"
    },
    {
     "data": {
      "application/vnd.jupyter.widget-view+json": {
       "model_id": "130d423b486a481fa6d99011a2e265b6",
       "version_major": 2,
       "version_minor": 0
      },
      "text/plain": [
       "  0%|          | 0/10 [00:00<?, ?it/s]"
      ]
     },
     "metadata": {},
     "output_type": "display_data"
    },
    {
     "data": {
      "application/vnd.jupyter.widget-view+json": {
       "model_id": "b5dc6bdabbce48a6b22cef3cb40ca361",
       "version_major": 2,
       "version_minor": 0
      },
      "text/plain": [
       "  0%|          | 0/10 [00:00<?, ?it/s]"
      ]
     },
     "metadata": {},
     "output_type": "display_data"
    },
    {
     "data": {
      "application/vnd.jupyter.widget-view+json": {
       "model_id": "e916d0bd9f4a451ba47e0a001b103507",
       "version_major": 2,
       "version_minor": 0
      },
      "text/plain": [
       "  0%|          | 0/10 [00:00<?, ?it/s]"
      ]
     },
     "metadata": {},
     "output_type": "display_data"
    },
    {
     "data": {
      "application/vnd.jupyter.widget-view+json": {
       "model_id": "d7bb9b0edbac47a79fdf18e419c32b79",
       "version_major": 2,
       "version_minor": 0
      },
      "text/plain": [
       "  0%|          | 0/10 [00:00<?, ?it/s]"
      ]
     },
     "metadata": {},
     "output_type": "display_data"
    },
    {
     "data": {
      "application/vnd.jupyter.widget-view+json": {
       "model_id": "4bc60b36a6fe42bbaeadc74bd47f0a64",
       "version_major": 2,
       "version_minor": 0
      },
      "text/plain": [
       "  0%|          | 0/10 [00:00<?, ?it/s]"
      ]
     },
     "metadata": {},
     "output_type": "display_data"
    }
   ],
   "source": [
    "generate_test_data(files=train_data_all, \n",
    "                   class_list=class_list_10, \n",
    "                   source_folder=source_folder, \n",
    "                   destination_folder='Food-Vision-REDO/datasets/1_percent_data_set/train/',\n",
    "                   total=1000,\n",
    "                   percentage=1)"
   ]
  },
  {
   "cell_type": "code",
   "execution_count": null,
   "id": "56fb64d2",
   "metadata": {},
   "outputs": [],
   "source": []
  },
  {
   "cell_type": "code",
   "execution_count": null,
   "id": "61ad2213",
   "metadata": {},
   "outputs": [],
   "source": []
  }
 ],
 "metadata": {
  "kernelspec": {
   "display_name": "Python 3 (ipykernel)",
   "language": "python",
   "name": "python3"
  },
  "language_info": {
   "codemirror_mode": {
    "name": "ipython",
    "version": 3
   },
   "file_extension": ".py",
   "mimetype": "text/x-python",
   "name": "python",
   "nbconvert_exporter": "python",
   "pygments_lexer": "ipython3",
   "version": "3.9.7"
  }
 },
 "nbformat": 4,
 "nbformat_minor": 5
}
