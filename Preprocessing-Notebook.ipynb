{
 "cells": [
  {
   "cell_type": "code",
   "execution_count": 1,
   "id": "59fc0f26",
   "metadata": {},
   "outputs": [],
   "source": [
    "### OBJECTIVES ###\n",
    "\n",
    "# All in random\n",
    "# Select 10 classes \n",
    "# Generate training samples, test samples\n",
    "# Generate 1 percent of the data 10 classes\n",
    "# Generate 10 percent of the data 5 classes\n",
    "# Generate 100 percent of the data 10 classes\n",
    "# Generate 10 percent of all classes\n",
    "\n",
    "\n",
    "import os\n",
    "from glob import glob\n",
    "import numpy as np\n",
    "from distutils.dir_util import copy_tree\n",
    "#from sklearn.model_selection import train_test_split\n",
    "import shutil\n",
    "import random\n",
    "#import pandas as pd\n",
    "from collections import ChainMap\n",
    "from pathlib import Path\n",
    "import json\n",
    "from tqdm import tqdm"
   ]
  },
  {
   "cell_type": "markdown",
   "id": "d21624f2",
   "metadata": {},
   "source": [
    "### Generate classlists"
   ]
  },
  {
   "cell_type": "code",
   "execution_count": 2,
   "id": "0d10ee11",
   "metadata": {},
   "outputs": [],
   "source": [
    "# Set the dataset dir\n",
    "dataset_dir = '../../Datasets/food-101/images/'"
   ]
  },
  {
   "cell_type": "code",
   "execution_count": 3,
   "id": "64a7f1eb",
   "metadata": {},
   "outputs": [],
   "source": [
    "# Get the classlist\n",
    "class_list_all = glob(os.path.join(dataset_dir, '*',))\n",
    "class_list_all = [i.split('\\\\')[-1] for i in class_list_all]\n",
    "class_list_all;"
   ]
  },
  {
   "cell_type": "code",
   "execution_count": 4,
   "id": "fe47a512",
   "metadata": {},
   "outputs": [],
   "source": [
    "# generate classes     \n",
    "def generate_classlist_all(dataset_dir):\n",
    "    '''\n",
    "    Generates a list of all classes based from the looped data.\n",
    "    \n",
    "    Parameters\n",
    "    ------\n",
    "    dataset_dir - dataset directory\n",
    "    '''\n",
    "    \n",
    "    class_list_all = glob(os.path.join(dataset_dir, '*',))\n",
    "    class_list_all = [i.split('\\\\')[-1] for i in class_list_all]\n",
    "    return class_list_all"
   ]
  },
  {
   "cell_type": "code",
   "execution_count": 5,
   "id": "d34cf7eb",
   "metadata": {},
   "outputs": [],
   "source": [
    "# generate class\n",
    "def generate_classlist(class_list, num_class):\n",
    "    '''\n",
    "    Generates a list of n classes.\n",
    "    \n",
    "    Parameters\n",
    "    ------\n",
    "    class_list - a list of classes\n",
    "    num_classes - amount of classes you want\n",
    "    '''\n",
    "    counter = 0\n",
    "    class_list_ = []\n",
    "    while counter != num_class:\n",
    "        if np.random.choice(class_list) not in class_list_:        \n",
    "            class_list_.append(np.random.choice(class_list))\n",
    "            counter +=1\n",
    "    return class_list_\n"
   ]
  },
  {
   "cell_type": "code",
   "execution_count": 6,
   "id": "c19ba7c2",
   "metadata": {},
   "outputs": [],
   "source": [
    "def loop_through_files(dataset_dir):\n",
    "    '''\n",
    "    Loops through the directory and prints out the how much data within\n",
    "    \n",
    "    Parameters\n",
    "    ------\n",
    "    data_dir(str) - dataset directory\n",
    "    '''\n",
    "    total_files = []\n",
    "    for dirpath, dirnames, filenames in os.walk(data_dir):\n",
    "        print(f\"There are {len(dirnames)} directories and {len(filenames)} images in '{dirpath}'.\")\n",
    "        total_files.append(len(filenames))\n",
    "    return sum(total_files)"
   ]
  },
  {
   "cell_type": "markdown",
   "id": "5d317b10",
   "metadata": {},
   "source": [
    "### Generating a dictionary"
   ]
  },
  {
   "cell_type": "code",
   "execution_count": 7,
   "id": "90d9f110",
   "metadata": {},
   "outputs": [],
   "source": [
    "# Append each class file in a dictionary list\n",
    "# get the length of the string\n",
    "# random choice of 10%"
   ]
  },
  {
   "cell_type": "code",
   "execution_count": 8,
   "id": "f99e713e",
   "metadata": {},
   "outputs": [],
   "source": [
    "def generate_dict_data(classlist, dataset_dir):\n",
    "    '''\n",
    "    Generates a dictionary of class along with its list of data\n",
    "    \n",
    "    Parameters\n",
    "    ------\n",
    "    classlist - list of classes\n",
    "    dataset_dir - dataset directory\n",
    "    '''\n",
    "    \n",
    "    dict_ = {}\n",
    "    for class_ in tqdm(classlist):\n",
    "        dict_[class_] = []\n",
    "    for class_name, list_ in dict_.items():\n",
    "        for filenames in os.listdir(dataset_dir + class_name):\n",
    "            list_.append(filenames)\n",
    "    return dict_"
   ]
  },
  {
   "cell_type": "markdown",
   "id": "614dc35f",
   "metadata": {},
   "source": [
    "### Generating Train Test Split"
   ]
  },
  {
   "cell_type": "code",
   "execution_count": 9,
   "id": "fc3cf601",
   "metadata": {},
   "outputs": [],
   "source": [
    "def generate_train_test_data(dict_files, percentage_train):\n",
    "    '''\n",
    "    Generates a train-test split with the percentage given.\n",
    "    \n",
    "    Parameters\n",
    "    ------\n",
    "    dict_files - dictionary of classes along with its list of data\n",
    "    percent_test - percent of train data to generate\n",
    "    \n",
    "    Usage\n",
    "    ----\n",
    "    train, test = generate_train_test_data(dict_files, percentage_test)\n",
    "    '''\n",
    "    test_data_all = []\n",
    "    train_data_all = []\n",
    "    \n",
    "    percentage = percentage_train / 100\n",
    "    \n",
    "    for name_, data_ in tqdm(dict_files.items()):\n",
    "        test_data_all.append({name_ : dict_files[name_][(int(len(dict_files[name_])*percentage)):]})\n",
    "        train_data_all.append({name_ : dict_files[name_][:(int(len(dict_files[name_])*percentage))]})\n",
    "            \n",
    "    # combines lists into a single dictionary        \n",
    "    test_data_all = dict(ChainMap(*test_data_all))\n",
    "    train_data_all = dict(ChainMap(*train_data_all))        \n",
    "    return train_data_all, test_data_all"
   ]
  },
  {
   "cell_type": "markdown",
   "id": "42fe585b",
   "metadata": {},
   "source": [
    "### taking a sample set from the Train Test Split and Copy-Paste our own dataset"
   ]
  },
  {
   "cell_type": "code",
   "execution_count": 10,
   "id": "5eb7c8eb",
   "metadata": {},
   "outputs": [],
   "source": [
    "source_folder = '../../Datasets/food-101/images/'\n",
    "destination_folder = '../../testfolder/test/'\n",
    "test_destination_folder = 'Food-Vision-REDO/datasets/food_101_10_percent/test/'"
   ]
  },
  {
   "cell_type": "code",
   "execution_count": 11,
   "id": "becad736",
   "metadata": {},
   "outputs": [],
   "source": [
    "def build_train_test_datafiles(classlist, destination_folder, folder_name):\n",
    "    '''\n",
    "    takes in a class list, and generates folders locally\n",
    "    \n",
    "    Parameters\n",
    "    -----\n",
    "    classlist - list of classes\n",
    "    train_dir - local directory for train files\n",
    "    test_dir - local directory for test files\n",
    "    '''\n",
    "    for i in classlist:\n",
    "        Path(destination_folder + folder_name + '/' + i).mkdir(parents=True, exist_ok=True),\n",
    "           "
   ]
  },
  {
   "cell_type": "code",
   "execution_count": 12,
   "id": "b9f58d43",
   "metadata": {},
   "outputs": [],
   "source": [
    "def generate_data_locally(classlist, data, source_folder, destination_folder):\n",
    "    '''\n",
    "    Copies and paste data towards the destination folder\n",
    "    \n",
    "    Parameters\n",
    "    ------\n",
    "    classlist - list of classes\n",
    "    data - dictionary of train/test data\n",
    "    source_folder - location of the data\n",
    "    destination_folder - location you want to paste it\n",
    "    percentage - amount of percentage within you want to pase\n",
    "    '''\n",
    "    \n",
    "    #percent = percentage/100\n",
    "    for names_ in tqdm(classlist):\n",
    "        #for files in data[names_][:(int(len(data[names_]) * percent))]:\n",
    "        for files in data[names_]:\n",
    "            # construct full file path\n",
    "            source = source_folder + names_ + '/' + files\n",
    "            destination = destination_folder + names_+ '/' + files\n",
    "            # copy only files\n",
    "            if os.path.isfile(source):\n",
    "                shutil.copy(source, destination)\n",
    "        "
   ]
  },
  {
   "cell_type": "code",
   "execution_count": 13,
   "id": "def2a8ca",
   "metadata": {},
   "outputs": [],
   "source": [
    "def generate_data_locally_percent(classlist, data, source_folder, destination_folder, percentage):\n",
    "    '''\n",
    "    Copies and paste data towards the destination folder\n",
    "    \n",
    "    Parameters\n",
    "    ------\n",
    "    classlist - list of classes\n",
    "    data - dictionary of train/test data\n",
    "    source_folder - location of the data\n",
    "    destination_folder - location you want to paste it\n",
    "    percentage - amount of percentage within you want to pase\n",
    "    '''\n",
    "    \n",
    "    percent = percentage/100\n",
    "    for names_ in tqdm(classlist):\n",
    "        for files in data[names_][:(int(len(data[names_]) * percent))]:\n",
    "        \n",
    "            # construct full file path\n",
    "            source = source_folder + names_ + '/' + files\n",
    "            destination = destination_folder + names_+ '/' + files\n",
    "            # copy only files\n",
    "            if os.path.isfile(source):\n",
    "                shutil.copy(source, destination)\n",
    "        "
   ]
  },
  {
   "cell_type": "code",
   "execution_count": 14,
   "id": "e2b29a28",
   "metadata": {
    "scrolled": true
   },
   "outputs": [
    {
     "name": "stderr",
     "output_type": "stream",
     "text": [
      "100%|██████████| 101/101 [00:00<?, ?it/s]\n"
     ]
    }
   ],
   "source": [
    "classlist_dict = generate_dict_data(classlist=class_list_all, dataset_dir='../../Datasets/food-101/images/')"
   ]
  },
  {
   "cell_type": "code",
   "execution_count": 15,
   "id": "a9057b65",
   "metadata": {
    "scrolled": true
   },
   "outputs": [
    {
     "name": "stderr",
     "output_type": "stream",
     "text": [
      "100%|██████████| 101/101 [00:00<00:00, 50491.62it/s]\n"
     ]
    }
   ],
   "source": [
    "train, test = generate_train_test_data(classlist_dict, percentage_train=75)"
   ]
  },
  {
   "cell_type": "code",
   "execution_count": 16,
   "id": "8637aca4",
   "metadata": {},
   "outputs": [],
   "source": [
    "build_train_test_datafiles(class_list_all, destination_folder='./Food-Vision-REDO/datasets/food_101/', folder_name='train_50')"
   ]
  },
  {
   "cell_type": "code",
   "execution_count": 315,
   "id": "87d4a21d",
   "metadata": {},
   "outputs": [
    {
     "name": "stderr",
     "output_type": "stream",
     "text": [
      "100%|██████████| 101/101 [16:00<00:00,  9.51s/it]\n"
     ]
    }
   ],
   "source": [
    "generate_data_locally(\n",
    "    classlist=class_list_all,\n",
    "    data=train,\n",
    "    source_folder='../../Datasets/food-101/images/',\n",
    "    destination_folder='./Food-Vision-REDO/datasets/food_101/train/',\n",
    "    #percentage=10\n",
    ")"
   ]
  },
  {
   "cell_type": "code",
   "execution_count": 319,
   "id": "e6b56600",
   "metadata": {},
   "outputs": [
    {
     "name": "stderr",
     "output_type": "stream",
     "text": [
      "100%|██████████| 101/101 [00:28<00:00,  3.53it/s]\n"
     ]
    }
   ],
   "source": [
    "generate_data_locally(\n",
    "    classlist=class_list_all,\n",
    "    data=test,\n",
    "    source_folder='../../Datasets/food-101/images/',\n",
    "    destination_folder='./Food-Vision-REDO/datasets/food_101/test/',\n",
    "    #percentage=10\n",
    ")"
   ]
  },
  {
   "cell_type": "code",
   "execution_count": 318,
   "id": "7d44786f",
   "metadata": {},
   "outputs": [
    {
     "name": "stderr",
     "output_type": "stream",
     "text": [
      "100%|██████████| 101/101 [00:04<00:00, 24.10it/s]\n"
     ]
    }
   ],
   "source": [
    "generate_data_locally_percent(\n",
    "    classlist=class_list_all,\n",
    "    data=train,\n",
    "    source_folder='../../Datasets/food-101/images/',\n",
    "    destination_folder='./Food-Vision-REDO/datasets/food_101/train_10/',\n",
    "    percentage=10\n",
    ")"
   ]
  },
  {
   "cell_type": "code",
   "execution_count": 28,
   "id": "050d7e42",
   "metadata": {},
   "outputs": [
    {
     "name": "stderr",
     "output_type": "stream",
     "text": [
      "100%|██████████| 101/101 [00:22<00:00,  4.47it/s]\n"
     ]
    }
   ],
   "source": [
    "generate_data_locally_percent(\n",
    "    classlist=class_list_all,\n",
    "    data=train,\n",
    "    source_folder='../../Datasets/food-101/images/',\n",
    "    destination_folder='./Food-Vision-REDO/datasets/food_101/train_20/',\n",
    "    percentage=20\n",
    ")"
   ]
  },
  {
   "cell_type": "code",
   "execution_count": 17,
   "id": "9e61ef30",
   "metadata": {},
   "outputs": [
    {
     "name": "stderr",
     "output_type": "stream",
     "text": [
      "100%|██████████| 101/101 [11:22<00:00,  6.76s/it]\n"
     ]
    }
   ],
   "source": [
    "generate_data_locally_percent(\n",
    "    classlist=class_list_all,\n",
    "    data=train,\n",
    "    source_folder='../../Datasets/food-101/images/',\n",
    "    destination_folder='./Food-Vision-REDO/datasets/food_101/train_50/',\n",
    "    percentage=50\n",
    ")"
   ]
  },
  {
   "cell_type": "code",
   "execution_count": null,
   "id": "e3d2b7c2",
   "metadata": {},
   "outputs": [],
   "source": []
  }
 ],
 "metadata": {
  "kernelspec": {
   "display_name": "Python 3 (ipykernel)",
   "language": "python",
   "name": "python3"
  },
  "language_info": {
   "codemirror_mode": {
    "name": "ipython",
    "version": 3
   },
   "file_extension": ".py",
   "mimetype": "text/x-python",
   "name": "python",
   "nbconvert_exporter": "python",
   "pygments_lexer": "ipython3",
   "version": "3.9.7"
  },
  "toc": {
   "base_numbering": 1,
   "nav_menu": {},
   "number_sections": true,
   "sideBar": true,
   "skip_h1_title": false,
   "title_cell": "Table of Contents",
   "title_sidebar": "Contents",
   "toc_cell": false,
   "toc_position": {},
   "toc_section_display": true,
   "toc_window_display": false
  }
 },
 "nbformat": 4,
 "nbformat_minor": 5
}
