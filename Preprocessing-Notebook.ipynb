{
 "cells": [
  {
   "cell_type": "code",
   "execution_count": 1,
   "id": "179a04ac",
   "metadata": {},
   "outputs": [],
   "source": [
    "### OBJECTIVES ###\n",
    "\n",
    "# All in random\n",
    "# Select 10 classes \n",
    "# Generate training samples, test samples\n",
    "# Generate 1 percent of the data 10 classes\n",
    "# Generate 10 percent of the data 5 classes\n",
    "# Generate 100 percent of the data 10 classes\n",
    "\n",
    "import os\n",
    "from glob import glob\n",
    "import numpy as np\n",
    "from distutils.dir_util import copy_tree\n",
    "from sklearn.model_selection import train_test_split\n",
    "import shutil\n",
    "import random\n",
    "import pandas as pd\n",
    "from collections import ChainMap\n",
    "\n",
    "import json\n",
    "from tqdm.notebook import tqdm"
   ]
  },
  {
   "cell_type": "markdown",
   "id": "69739f3e",
   "metadata": {},
   "source": [
    "### Select 10 classes"
   ]
  },
  {
   "cell_type": "code",
   "execution_count": 2,
   "id": "bc8dd88a",
   "metadata": {},
   "outputs": [],
   "source": [
    "# Dataset dir\n",
    "dataset_dir = '../../Datasets/food-101/images/'"
   ]
  },
  {
   "cell_type": "code",
   "execution_count": 3,
   "id": "545e36f6",
   "metadata": {},
   "outputs": [],
   "source": [
    "class_list_all = glob(os.path.join(dataset_dir, '*',))\n",
    "class_list_all = [i.split('\\\\')[-1] for i in class_list_all]\n",
    "class_list_all;"
   ]
  },
  {
   "cell_type": "code",
   "execution_count": 4,
   "id": "bcd0f9ee",
   "metadata": {},
   "outputs": [],
   "source": [
    "# generate 10 classes\n",
    "np.random.seed(42)\n",
    "counter = 0\n",
    "class_list_10 = []\n",
    "\n",
    "while counter != 10:\n",
    "    if np.random.choice(class_list_all) not in class_list_10:        \n",
    "        class_list_10.append(np.random.choice(class_list_all))\n",
    "        counter +=1\n"
   ]
  },
  {
   "cell_type": "code",
   "execution_count": 5,
   "id": "3e243bff",
   "metadata": {},
   "outputs": [
    {
     "name": "stdout",
     "output_type": "stream",
     "text": [
      "Copying Done\n",
      "Copying Done\n",
      "Copying Done\n",
      "Copying Done\n",
      "Copying Done\n",
      "Copying Done\n",
      "Copying Done\n",
      "Copying Done\n",
      "Copying Done\n",
      "Copying Done\n"
     ]
    }
   ],
   "source": [
    "for name in class_list_10:\n",
    "    image_dir = dataset_dir + name\n",
    "    paste_dir = '../../Datasets/10_classes_food/'\n",
    "    copy_tree(image_dir, '../../Datasets/10_classes_food/'+name)\n",
    "    print('Copying Done')\n"
   ]
  },
  {
   "cell_type": "code",
   "execution_count": 6,
   "id": "f3a1a9bb",
   "metadata": {},
   "outputs": [
    {
     "name": "stdout",
     "output_type": "stream",
     "text": [
      "There are 10 directories and 0 images in '../../Datasets/10_classes_food/'.\n",
      "There are 0 directories and 1000 images in '../../Datasets/10_classes_food/baklava'.\n",
      "There are 0 directories and 1000 images in '../../Datasets/10_classes_food/chicken_wings'.\n",
      "There are 0 directories and 1000 images in '../../Datasets/10_classes_food/filet_mignon'.\n",
      "There are 0 directories and 1000 images in '../../Datasets/10_classes_food/gyoza'.\n",
      "There are 0 directories and 1000 images in '../../Datasets/10_classes_food/paella'.\n",
      "There are 0 directories and 1000 images in '../../Datasets/10_classes_food/peking_duck'.\n",
      "There are 0 directories and 1000 images in '../../Datasets/10_classes_food/sashimi'.\n",
      "There are 0 directories and 1000 images in '../../Datasets/10_classes_food/scallops'.\n",
      "There are 0 directories and 1000 images in '../../Datasets/10_classes_food/spring_rolls'.\n",
      "There are 0 directories and 1000 images in '../../Datasets/10_classes_food/tuna_tartare'.\n",
      "Total num of files 10000\n"
     ]
    }
   ],
   "source": [
    "total_files = []\n",
    "\n",
    "for dirpath, dirnames, filenames in os.walk(\"../../Datasets/10_classes_food/\"):\n",
    "    print(f\"There are {len(dirnames)} directories and {len(filenames)} images in '{dirpath}'.\")\n",
    "    total_files.append(len(filenames))\n",
    "\n",
    "print(f'Total num of files {sum(total_files)}')"
   ]
  },
  {
   "cell_type": "markdown",
   "id": "a1e7ea90",
   "metadata": {},
   "source": [
    "### Generating a dictionary"
   ]
  },
  {
   "cell_type": "code",
   "execution_count": 7,
   "id": "da46a248",
   "metadata": {},
   "outputs": [
    {
     "data": {
      "text/plain": [
       "['spring_rolls',\n",
       " 'paella',\n",
       " 'chicken_wings',\n",
       " 'sashimi',\n",
       " 'peking_duck',\n",
       " 'tuna_tartare',\n",
       " 'baklava',\n",
       " 'gyoza',\n",
       " 'scallops',\n",
       " 'filet_mignon']"
      ]
     },
     "execution_count": 7,
     "metadata": {},
     "output_type": "execute_result"
    }
   ],
   "source": [
    "class_list_10"
   ]
  },
  {
   "cell_type": "code",
   "execution_count": 8,
   "id": "08e99d47",
   "metadata": {},
   "outputs": [],
   "source": [
    "# Append each class file in a dictionary list\n",
    "# get the length of the string\n",
    "# random choice of 10%"
   ]
  },
  {
   "cell_type": "code",
   "execution_count": 9,
   "id": "8e87f5d4",
   "metadata": {},
   "outputs": [],
   "source": [
    "food_10_dict = {}\n",
    "for classes_ in class_list_10:\n",
    "    food_10_dict[classes_] = []"
   ]
  },
  {
   "cell_type": "code",
   "execution_count": 10,
   "id": "41f94107",
   "metadata": {},
   "outputs": [
    {
     "data": {
      "text/plain": [
       "{'spring_rolls': [],\n",
       " 'paella': [],\n",
       " 'chicken_wings': [],\n",
       " 'sashimi': [],\n",
       " 'peking_duck': [],\n",
       " 'tuna_tartare': [],\n",
       " 'baklava': [],\n",
       " 'gyoza': [],\n",
       " 'scallops': [],\n",
       " 'filet_mignon': []}"
      ]
     },
     "execution_count": 10,
     "metadata": {},
     "output_type": "execute_result"
    }
   ],
   "source": [
    "food_10_dict"
   ]
  },
  {
   "cell_type": "code",
   "execution_count": 11,
   "id": "24ec9a90",
   "metadata": {},
   "outputs": [],
   "source": [
    "for class_name, list_ in food_10_dict.items():\n",
    "    for filenames in os.listdir(f'../../Datasets/10_classes_food/{class_name}'):\n",
    "        list_.append(filenames)"
   ]
  },
  {
   "cell_type": "code",
   "execution_count": 12,
   "id": "a572e160",
   "metadata": {
    "scrolled": false
   },
   "outputs": [],
   "source": [
    "food_10_dict;"
   ]
  },
  {
   "cell_type": "markdown",
   "id": "2371eb89",
   "metadata": {},
   "source": [
    "### Train and Test Data\n",
    "750 on train  \n",
    "250 on test"
   ]
  },
  {
   "cell_type": "code",
   "execution_count": 13,
   "id": "e1c200fe",
   "metadata": {},
   "outputs": [
    {
     "data": {
      "text/plain": [
       "([34324], [23424])"
      ]
     },
     "execution_count": 13,
     "metadata": {},
     "output_type": "execute_result"
    }
   ],
   "source": [
    "test = [34324], [23424]\n",
    "test"
   ]
  },
  {
   "cell_type": "code",
   "execution_count": 14,
   "id": "b403025c",
   "metadata": {},
   "outputs": [],
   "source": [
    "# get 75% of the data\n",
    "# get 25 % of the data\n",
    "# set them on test and train"
   ]
  },
  {
   "cell_type": "code",
   "execution_count": 15,
   "id": "164ea79a",
   "metadata": {
    "scrolled": true
   },
   "outputs": [],
   "source": [
    "test_data_all = []\n",
    "train_data_all = []\n",
    "\n",
    "for food_name, food_data in food_10_dict.items():\n",
    "    test_data_all.append({food_name : food_10_dict[food_name][750:]})\n",
    "    train_data_all.append({food_name : food_10_dict[food_name][:750]})"
   ]
  },
  {
   "cell_type": "code",
   "execution_count": 16,
   "id": "f54d4f43",
   "metadata": {},
   "outputs": [],
   "source": [
    "test_data_all = dict(ChainMap(*test_data_all))\n",
    "train_data_all = dict(ChainMap(*train_data_all))"
   ]
  },
  {
   "cell_type": "code",
   "execution_count": 17,
   "id": "f0723e40",
   "metadata": {},
   "outputs": [
    {
     "data": {
      "text/plain": [
       "(250, 750)"
      ]
     },
     "execution_count": 17,
     "metadata": {},
     "output_type": "execute_result"
    }
   ],
   "source": [
    "len(test_data_all['spring_rolls']), len(train_data_all['spring_rolls'])"
   ]
  },
  {
   "cell_type": "code",
   "execution_count": 18,
   "id": "a9a4a8a0",
   "metadata": {},
   "outputs": [],
   "source": [
    "source_folder = '../../Datasets/10_classes_food/'\n",
    "destination_folder = 'Food-Vision-REDO/datasets/all_data_set/train/'\n",
    "destination_folder_test = 'Food-Vision-REDO/datasets/all_data_set/test/'"
   ]
  },
  {
   "cell_type": "code",
   "execution_count": 19,
   "id": "92084d19",
   "metadata": {},
   "outputs": [],
   "source": [
    "for i in class_list_10:\n",
    "    os.mkdir(destination_folder_test+i)    "
   ]
  },
  {
   "cell_type": "code",
   "execution_count": 20,
   "id": "5142d0e3",
   "metadata": {
    "scrolled": false
   },
   "outputs": [],
   "source": [
    "for i in class_list_10:\n",
    "    os.mkdir(destination_folder+i)"
   ]
  },
  {
   "cell_type": "code",
   "execution_count": 21,
   "id": "d5b7275d",
   "metadata": {},
   "outputs": [
    {
     "name": "stdout",
     "output_type": "stream",
     "text": [
      "Copy Done\n",
      "Copy Done\n",
      "Copy Done\n",
      "Copy Done\n",
      "Copy Done\n",
      "Copy Done\n",
      "Copy Done\n",
      "Copy Done\n",
      "Copy Done\n",
      "Copy Done\n"
     ]
    }
   ],
   "source": [
    "for food_names in class_list_10:\n",
    "    for files in train_data_all[food_names]:\n",
    "        # construct full file path\n",
    "        source = source_folder + food_names + '/' + files\n",
    "        destination = destination_folder + food_names+ '/' + files\n",
    "        # copy only files\n",
    "        if os.path.isfile(source):\n",
    "            shutil.copy(source, destination)\n",
    "    print('Copy Done')"
   ]
  },
  {
   "cell_type": "code",
   "execution_count": null,
   "id": "68a8f2b5",
   "metadata": {},
   "outputs": [
    {
     "name": "stdout",
     "output_type": "stream",
     "text": [
      "Copying Done\n",
      "Copying Done\n",
      "Copying Done\n"
     ]
    }
   ],
   "source": [
    "for food_names in class_list_10:\n",
    "    for files in test_data_all[food_names]:\n",
    "        # construct full file path\n",
    "        source = source_folder + food_names + '/' + files\n",
    "        destination = destination_folder_test + food_names+ '/' + files\n",
    "        # copy only files\n",
    "        if os.path.isfile(source):\n",
    "            shutil.copy(source, destination)\n",
    "    print('Copying Done')"
   ]
  },
  {
   "cell_type": "markdown",
   "id": "cf56b9f0",
   "metadata": {},
   "source": [
    "### Generate 10% and 1% of the dataset"
   ]
  },
  {
   "cell_type": "code",
   "execution_count": null,
   "id": "8a66797b",
   "metadata": {},
   "outputs": [],
   "source": [
    "# generate 10\n",
    "train_data_1_percent = []\n",
    "train_data_10_percent = []\n",
    "\n",
    "for food_name, food_data in food_10_dict.items():\n",
    "    train_data_1_percent.append({food_name : food_10_dict[food_name][:10]})\n",
    "    \n",
    "for food_name, food_data in food_10_dict.items():\n",
    "    train_data_10_percent.append({food_name : food_10_dict[food_name][:100]})"
   ]
  },
  {
   "cell_type": "code",
   "execution_count": null,
   "id": "c065ce94",
   "metadata": {},
   "outputs": [],
   "source": [
    "train_data_10_percent;"
   ]
  },
  {
   "cell_type": "code",
   "execution_count": null,
   "id": "a9ab4450",
   "metadata": {},
   "outputs": [],
   "source": [
    "def generate_test_data(files, class_list, source_folder, destination_folder, total, percentage):\n",
    "    '''\n",
    "    Generates and copies files from a directory and its different classes for training to its training location\n",
    "    \n",
    "    Parameters:\n",
    "    ---------\n",
    "    files - individual files of the class\n",
    "    source - location of original files\n",
    "    destination - location on where it's going\n",
    "    percentage - amount of training data we're going to generate\n",
    "    total - total amount of the data\n",
    "    class_list - list of classes for the destination folder\n",
    "    '''\n",
    "    \n",
    "    percentage_total = int(total * percentage/100)\n",
    "\n",
    "    for names in class_list:\n",
    "        os.mkdir(destination_folder + names)\n",
    "        for file in tqdm(files[names][:percentage_total]):\n",
    "            # construct full file path\n",
    "            source = source_folder + names + '/' + file\n",
    "            destination = destination_folder + names + '/' + file\n",
    "            # copy only files\n",
    "            if os.path.isfile(source):\n",
    "                shutil.copy(source, destination)"
   ]
  },
  {
   "cell_type": "code",
   "execution_count": null,
   "id": "e40a4ff0",
   "metadata": {
    "scrolled": true
   },
   "outputs": [],
   "source": [
    "generate_test_data(files=train_data_all, \n",
    "                   class_list=class_list_10, \n",
    "                   source_folder=source_folder, \n",
    "                   destination_folder='Food-Vision-REDO/datasets/10_percent_data_set/train/',\n",
    "                   total=1000,\n",
    "                   percentage=10)"
   ]
  },
  {
   "cell_type": "code",
   "execution_count": null,
   "id": "53c256b6",
   "metadata": {},
   "outputs": [],
   "source": []
  },
  {
   "cell_type": "code",
   "execution_count": null,
   "id": "9f08c1f8",
   "metadata": {},
   "outputs": [],
   "source": []
  }
 ],
 "metadata": {
  "kernelspec": {
   "display_name": "Python 3 (ipykernel)",
   "language": "python",
   "name": "python3"
  },
  "language_info": {
   "codemirror_mode": {
    "name": "ipython",
    "version": 3
   },
   "file_extension": ".py",
   "mimetype": "text/x-python",
   "name": "python",
   "nbconvert_exporter": "python",
   "pygments_lexer": "ipython3",
   "version": "3.9.7"
  }
 },
 "nbformat": 4,
 "nbformat_minor": 5
}
