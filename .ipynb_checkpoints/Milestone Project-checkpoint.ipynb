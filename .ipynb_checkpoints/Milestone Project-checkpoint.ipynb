{
 "cells": [
  {
   "cell_type": "code",
   "execution_count": 1,
   "id": "a9657fde",
   "metadata": {
    "scrolled": true
   },
   "outputs": [
    {
     "name": "stdout",
     "output_type": "stream",
     "text": [
      "INFO:tensorflow:Mixed precision compatibility check (mixed_float16): OK\n",
      "Your GPU will likely run quickly with dtype policy mixed_float16 as it has compute capability of at least 7.0. Your GPU: NVIDIA GeForce RTX 2060, compute capability 7.5\n"
     ]
    }
   ],
   "source": [
    "from sklearn.metrics import confusion_matrix, classification_report,accuracy_score\n",
    "import itertools\n",
    "from tqdm import tqdm\n",
    "\n",
    "import tensorflow as tf\n",
    "import pandas as pd\n",
    "import numpy as np\n",
    "import random\n",
    "import os\n",
    "from glob import glob\n",
    "import time, datetime\n",
    "\n",
    "import matplotlib.pyplot as plt\n",
    "import matplotlib.image as mpimg\n",
    "import datetime\n",
    "%load_ext tensorboard\n",
    "\n",
    "from tensorflow.keras import mixed_precision\n",
    "mixed_precision.set_global_policy(policy=\"mixed_float16\")\n",
    "\n",
    "from helper_functions import plot_compare_history, plot_confusion_matrix, plot_history_curves, plot_random_image\n",
    "from helper_functions import create_checkpoint_callback, create_early_stopping_callback, create_reduce_lr_callback, create_tensorboard_callback"
   ]
  },
  {
   "cell_type": "code",
   "execution_count": 2,
   "id": "0890a699",
   "metadata": {},
   "outputs": [
    {
     "data": {
      "text/plain": [
       "<Policy \"mixed_float16\">"
      ]
     },
     "execution_count": 2,
     "metadata": {},
     "output_type": "execute_result"
    }
   ],
   "source": [
    "mixed_precision.global_policy()"
   ]
  },
  {
   "cell_type": "code",
   "execution_count": 3,
   "id": "59848e60",
   "metadata": {},
   "outputs": [],
   "source": [
    "train_101_100_dir = './Food-Vision-REDO/datasets/food_101/train/'\n",
    "train_101_50_dir = './Food-Vision-REDO/datasets/food_101/train_50/'\n",
    "train_101_20_dir = './Food-Vision-REDO/datasets/food_101/train_20/'\n",
    "train_101_10_dir = './Food-Vision-REDO/datasets/food_101/train_10/'\n",
    "test_101_dir = './Food-Vision-REDO/datasets/food_101/test/'\n",
    "food_101_dir = './Food-Vision-REDO/datasets/food_101/'"
   ]
  },
  {
   "cell_type": "code",
   "execution_count": 4,
   "id": "cacfc880",
   "metadata": {},
   "outputs": [],
   "source": [
    "checkpoint_path = './Food-Vision-REDO/checkpoint/'\n",
    "tensorboard_path = './Food-Vision-REDO/transfer_learning/'\n",
    "\n",
    "earlystopping_callback = create_early_stopping_callback(\n",
    "    metric='val_accuracy',\n",
    "    patience=3\n",
    ")\n",
    "\n",
    "checkpoint_callback = create_checkpoint_callback(\n",
    "    checkpoint_path=checkpoint_path,\n",
    "    metric='val_loss',\n",
    "    save_best=True\n",
    ")\n",
    "\n",
    "lr_callback = create_reduce_lr_callback(\n",
    "    metric=\"val_loss\",\n",
    "    factor=0.2,\n",
    "    patience=2,\n",
    "    verbose=1,\n",
    "    min_lr=1e-7\n",
    ")\n"
   ]
  },
  {
   "cell_type": "code",
   "execution_count": 5,
   "id": "58d41d60",
   "metadata": {},
   "outputs": [
    {
     "name": "stdout",
     "output_type": "stream",
     "text": [
      "Found 7575 files belonging to 101 classes.\n",
      "Found 15150 files belonging to 101 classes.\n",
      "Found 37875 files belonging to 101 classes.\n",
      "Found 75750 files belonging to 101 classes.\n",
      "Found 25250 files belonging to 101 classes.\n"
     ]
    }
   ],
   "source": [
    "IMG_SIZE=(224,224)\n",
    "\n",
    "train_data_10_percent = tf.keras.preprocessing.image_dataset_from_directory(\n",
    "    train_101_10_dir,\n",
    "    label_mode='categorical',\n",
    "    image_size=IMG_SIZE\n",
    ").prefetch(tf.data.AUTOTUNE)\n",
    "\n",
    "train_data_20_percent = tf.keras.preprocessing.image_dataset_from_directory(\n",
    "    train_101_20_dir,\n",
    "    label_mode='categorical',\n",
    "    image_size=IMG_SIZE\n",
    ").prefetch(tf.data.AUTOTUNE)\n",
    "\n",
    "train_data_50_percent = tf.keras.preprocessing.image_dataset_from_directory(\n",
    "    train_101_50_dir,\n",
    "    label_mode='categorical',\n",
    "    image_size=IMG_SIZE\n",
    ").prefetch(tf.data.AUTOTUNE)\n",
    "\n",
    "train_data_100_percent = tf.keras.preprocessing.image_dataset_from_directory(\n",
    "    train_101_100_dir,\n",
    "    label_mode='categorical',\n",
    "    image_size=IMG_SIZE\n",
    ").prefetch(tf.data.AUTOTUNE)\n",
    "\n",
    "test_data = tf.keras.preprocessing.image_dataset_from_directory(\n",
    "    test_101_dir,\n",
    "    label_mode='categorical',\n",
    "    image_size=IMG_SIZE,\n",
    "    shuffle=False\n",
    ").prefetch(tf.data.AUTOTUNE)"
   ]
  },
  {
   "cell_type": "code",
   "execution_count": 6,
   "id": "8445c7af",
   "metadata": {},
   "outputs": [
    {
     "data": {
      "text/plain": [
       "101"
      ]
     },
     "execution_count": 6,
     "metadata": {},
     "output_type": "execute_result"
    }
   ],
   "source": [
    "class_list_all = glob(os.path.join(test_101_dir, '*',))\n",
    "class_list_all = [i.split('\\\\')[-1] for i in class_list_all]\n",
    "class_list_all;\n",
    "len(class_list_all)"
   ]
  },
  {
   "cell_type": "markdown",
   "id": "0b8dfd19",
   "metadata": {},
   "source": [
    "### Building Different Models and Trying to Improve them"
   ]
  },
  {
   "cell_type": "markdown",
   "id": "884ff405",
   "metadata": {},
   "source": [
    "#### Model 0 \n",
    "\n",
    "**Experiment** - Model 0  \n",
    "**Data** - 20% of the data set  \n",
    "**Preprocessing** - None  \n",
    "**Model** - Feature Extraction of a Transfer Learning Model  "
   ]
  },
  {
   "cell_type": "code",
   "execution_count": 21,
   "id": "d346a0f4",
   "metadata": {},
   "outputs": [],
   "source": [
    "base_model = tf.keras.applications.EfficientNetB0(include_top=False)\n",
    "base_model.trainable = False\n",
    "\n",
    "inputs = tf.keras.Input(shape=IMG_SIZE+(3,), name='input_layer')\n",
    "#x = data_augmentation()\n",
    "x = base_model(inputs, training=False)\n",
    "x = tf.keras.layers.GlobalAveragePooling2D(name='global_avg_pooling')(x)\n",
    "x = tf.keras.layers.Dense(len(class_list_all), name='dense_layer')(x)\n",
    "outputs = tf.keras.layers.Activation('softmax', dtype=tf.float32, name='output_layer')(x)\n",
    "\n",
    "model_0 = tf.keras.Model(inputs, outputs)\n",
    "\n",
    "model_0.compile(loss=tf.keras.losses.CategoricalCrossentropy(),\n",
    "                optimizer=tf.keras.optimizers.Adam(0.001),\n",
    "                metrics=['accuracy'])\n",
    "\n"
   ]
  },
  {
   "cell_type": "code",
   "execution_count": 22,
   "id": "856bdbda",
   "metadata": {},
   "outputs": [
    {
     "name": "stdout",
     "output_type": "stream",
     "text": [
      "Saving Tensorboard logfiles to ./Food-Vision-REDO/transfer_learning//logs/fits/efficientnetb4_101_data_extraction/20211117-154405\n",
      "Epoch 1/5\n",
      "2368/2368 [==============================] - 123s 48ms/step - loss: 1.7594 - accuracy: 0.5696 - val_loss: 1.6306 - val_accuracy: 0.5784\n",
      "Epoch 2/5\n",
      "2368/2368 [==============================] - 112s 47ms/step - loss: 1.2338 - accuracy: 0.6788 - val_loss: 1.4972 - val_accuracy: 0.6128\n",
      "Epoch 3/5\n",
      "2367/2368 [============================>.] - ETA: 0s - loss: 1.0854 - accuracy: 0.7158INFO:tensorflow:Assets written to: ./Food-Vision-REDO/checkpoint\\assets\n"
     ]
    },
    {
     "name": "stderr",
     "output_type": "stream",
     "text": [
      "C:\\Users\\gilgamesh\\Anaconda3\\lib\\site-packages\\keras\\engine\\functional.py:1410: CustomMaskWarning: Custom mask layers require a config and must override get_config. When loading, the custom mask layer must be passed to the custom_objects argument.\n",
      "  layer_config = serialize_layer_fn(layer)\n",
      "C:\\Users\\gilgamesh\\Anaconda3\\lib\\site-packages\\keras\\saving\\saved_model\\layer_serialization.py:112: CustomMaskWarning: Custom mask layers require a config and must override get_config. When loading, the custom mask layer must be passed to the custom_objects argument.\n",
      "  return generic_utils.serialize_keras_object(obj)\n"
     ]
    },
    {
     "name": "stdout",
     "output_type": "stream",
     "text": [
      "2368/2368 [==============================] - 173s 73ms/step - loss: 1.0853 - accuracy: 0.7158 - val_loss: 1.4757 - val_accuracy: 0.6155\n",
      "Epoch 4/5\n",
      "2367/2368 [============================>.] - ETA: 0s - loss: 0.9886 - accuracy: 0.7412INFO:tensorflow:Assets written to: ./Food-Vision-REDO/checkpoint\\assets\n"
     ]
    },
    {
     "name": "stderr",
     "output_type": "stream",
     "text": [
      "C:\\Users\\gilgamesh\\Anaconda3\\lib\\site-packages\\keras\\engine\\functional.py:1410: CustomMaskWarning: Custom mask layers require a config and must override get_config. When loading, the custom mask layer must be passed to the custom_objects argument.\n",
      "  layer_config = serialize_layer_fn(layer)\n",
      "C:\\Users\\gilgamesh\\Anaconda3\\lib\\site-packages\\keras\\saving\\saved_model\\layer_serialization.py:112: CustomMaskWarning: Custom mask layers require a config and must override get_config. When loading, the custom mask layer must be passed to the custom_objects argument.\n",
      "  return generic_utils.serialize_keras_object(obj)\n"
     ]
    },
    {
     "name": "stdout",
     "output_type": "stream",
     "text": [
      "2368/2368 [==============================] - 174s 73ms/step - loss: 0.9886 - accuracy: 0.7411 - val_loss: 1.4656 - val_accuracy: 0.6192\n",
      "Epoch 5/5\n",
      "2367/2368 [============================>.] - ETA: 0s - loss: 0.9168 - accuracy: 0.7590INFO:tensorflow:Assets written to: ./Food-Vision-REDO/checkpoint\\assets\n"
     ]
    },
    {
     "name": "stderr",
     "output_type": "stream",
     "text": [
      "C:\\Users\\gilgamesh\\Anaconda3\\lib\\site-packages\\keras\\engine\\functional.py:1410: CustomMaskWarning: Custom mask layers require a config and must override get_config. When loading, the custom mask layer must be passed to the custom_objects argument.\n",
      "  layer_config = serialize_layer_fn(layer)\n",
      "C:\\Users\\gilgamesh\\Anaconda3\\lib\\site-packages\\keras\\saving\\saved_model\\layer_serialization.py:112: CustomMaskWarning: Custom mask layers require a config and must override get_config. When loading, the custom mask layer must be passed to the custom_objects argument.\n",
      "  return generic_utils.serialize_keras_object(obj)\n"
     ]
    },
    {
     "name": "stdout",
     "output_type": "stream",
     "text": [
      "\b\b\b\b\b\b\b\b\b\b\b\b\b\b\b\b\b\b\b\b\b\b\b\b\b\b\b\b\b\b\b\b\b\b\b\b\b\b\b\b\b\b\b\b\b\b\b\b\b\b\b\b\b\b\b\b\b\b\b\b\b\b\b\b\b\b\b\b\b\b\b\b\b\b\b\b\b\b\b\b\b\b\b\b\b\b\r",
      "2368/2368 [==============================] - 174s 73ms/step - loss: 0.9168 - accuracy: 0.7590 - val_loss: 1.4233 - val_accuracy: 0.6314\n"
     ]
    }
   ],
   "source": [
    "model_0_history = model_0.fit(\n",
    "    train_data_100_percent,\n",
    "    epochs=5,\n",
    "    steps_per_epoch=len(train_data_100_percent),\n",
    "    validation_data=test_data,\n",
    "    validation_steps=int(0.15*len(test_data)),\n",
    "    callbacks=[checkpoint_callback, create_tensorboard_callback(\n",
    "        dir_name=tensorboard_path,\n",
    "        experiment_name='efficientnetb4_101_data_extraction')]\n",
    ")"
   ]
  },
  {
   "cell_type": "code",
   "execution_count": 23,
   "id": "4c16ac5b",
   "metadata": {},
   "outputs": [
    {
     "name": "stdout",
     "output_type": "stream",
     "text": [
      "790/790 [==============================] - 34s 42ms/step - loss: 1.2910 - accuracy: 0.6682\n"
     ]
    }
   ],
   "source": [
    "model_0_evaluation = model_0.evaluate(test_data)"
   ]
  },
  {
   "cell_type": "code",
   "execution_count": 27,
   "id": "a8cbbb19",
   "metadata": {},
   "outputs": [],
   "source": [
    "cloned_model = tf.keras.models.clone_model(model_0)"
   ]
  },
  {
   "cell_type": "code",
   "execution_count": 28,
   "id": "aedda115",
   "metadata": {
    "scrolled": true
   },
   "outputs": [
    {
     "data": {
      "text/plain": [
       "<tensorflow.python.training.tracking.util.CheckpointLoadStatus at 0x1d28d0e7190>"
      ]
     },
     "execution_count": 28,
     "metadata": {},
     "output_type": "execute_result"
    }
   ],
   "source": [
    "cloned_model.load_weights(checkpoint_path)"
   ]
  },
  {
   "cell_type": "code",
   "execution_count": 29,
   "id": "8bf602c1",
   "metadata": {},
   "outputs": [],
   "source": [
    "cloned_model.compile(loss=\"sparse_categorical_crossentropy\",\n",
    "                     optimizer=tf.keras.optimizers.Adam(),\n",
    "                     metrics=[\"accuracy\"])"
   ]
  },
  {
   "cell_type": "code",
   "execution_count": 24,
   "id": "baebee10",
   "metadata": {},
   "outputs": [
    {
     "data": {
      "image/png": "[encoded data removed]",
      "text/plain": [
       "<Figure size 432x288 with 1 Axes>"
      ]
     },
     "metadata": {
      "needs_background": "light"
     },
     "output_type": "display_data"
    },
    {
     "data": {
      "image/png": "[encoded data removed]",
      "text/plain": [
       "<Figure size 432x288 with 1 Axes>"
      ]
     },
     "metadata": {
      "needs_background": "light"
     },
     "output_type": "display_data"
    }
   ],
   "source": [
    "plot_history_curves(model_0_history)"
   ]
  },
  {
   "cell_type": "code",
   "execution_count": 31,
   "id": "5f7414b4",
   "metadata": {},
   "outputs": [
    {
     "name": "stdout",
     "output_type": "stream",
     "text": [
      "INFO:tensorflow:Assets written to: 07_efficientnetb0_feature_extract_model_mixed_precision\\assets\n"
     ]
    },
    {
     "name": "stderr",
     "output_type": "stream",
     "text": [
      "C:\\Users\\gilgamesh\\Anaconda3\\lib\\site-packages\\keras\\engine\\functional.py:1410: CustomMaskWarning: Custom mask layers require a config and must override get_config. When loading, the custom mask layer must be passed to the custom_objects argument.\n",
      "  layer_config = serialize_layer_fn(layer)\n",
      "C:\\Users\\gilgamesh\\Anaconda3\\lib\\site-packages\\keras\\saving\\saved_model\\layer_serialization.py:112: CustomMaskWarning: Custom mask layers require a config and must override get_config. When loading, the custom mask layer must be passed to the custom_objects argument.\n",
      "  return generic_utils.serialize_keras_object(obj)\n"
     ]
    }
   ],
   "source": [
    "save_dir = \"07_efficientnetb0_feature_extract_model_mixed_precision\"\n",
    "model_0.save(save_dir)"
   ]
  },
  {
   "cell_type": "code",
   "execution_count": 43,
   "id": "2fcdd5fb",
   "metadata": {},
   "outputs": [],
   "source": [
    "loaded_saved_model = tf.keras.models.load_model(save_dir)"
   ]
  },
  {
   "cell_type": "code",
   "execution_count": 44,
   "id": "3de6ea77",
   "metadata": {},
   "outputs": [
    {
     "name": "stdout",
     "output_type": "stream",
     "text": [
      "790/790 [==============================] - 44s 54ms/step - loss: 1.2910 - accuracy: 0.6682\n"
     ]
    },
    {
     "data": {
      "text/plain": [
       "[1.2909963130950928, 0.6681584119796753]"
      ]
     },
     "execution_count": 44,
     "metadata": {},
     "output_type": "execute_result"
    }
   ],
   "source": [
    "results_loaded_saved_model = loaded_saved_model.evaluate(test_data)\n",
    "results_loaded_saved_model"
   ]
  },
  {
   "cell_type": "code",
   "execution_count": 45,
   "id": "434e7763",
   "metadata": {},
   "outputs": [
    {
     "name": "stdout",
     "output_type": "stream",
     "text": [
      "input_layer True float32 <Policy \"float32\">\n",
      "efficientnetb0 True float32 <Policy \"mixed_float16\">\n",
      "global_avg_pooling True float32 <Policy \"mixed_float16\">\n",
      "dense_layer True float32 <Policy \"mixed_float16\">\n",
      "output_layer True float32 <Policy \"float32\">\n"
     ]
    }
   ],
   "source": [
    "for layer in loaded_saved_model.layers:\n",
    "  layer.trainable = True # set all layers to trainable\n",
    "  print(layer.name, layer.trainable, layer.dtype, layer.dtype_policy)"
   ]
  },
  {
   "cell_type": "code",
   "execution_count": 46,
   "id": "fa167fa6",
   "metadata": {},
   "outputs": [],
   "source": [
    "loaded_saved_model.compile(loss=\"categorical_crossentropy\", # sparse_categorical_crossentropy for labels that are *not* one-hot\n",
    "                        optimizer=tf.keras.optimizers.Adam(0.0001), # 10x lower learning rate than the default\n",
    "                        metrics=[\"accuracy\"])"
   ]
  },
  {
   "cell_type": "code",
   "execution_count": 47,
   "id": "3f110c99",
   "metadata": {
    "scrolled": false
   },
   "outputs": [
    {
     "name": "stdout",
     "output_type": "stream",
     "text": [
      "Saving Tensorboard logfiles to ./Food-Vision-REDO/transfer_learning//logs/fits/efficientnetb4_101_data_extraction/20211117-163313\n",
      "Epoch 1/100\n",
      "2368/2368 [==============================] - ETA: 0s - loss: 0.8020 - accuracy: 0.7804INFO:tensorflow:Assets written to: ./Food-Vision-REDO/checkpoint\\assets\n"
     ]
    },
    {
     "name": "stderr",
     "output_type": "stream",
     "text": [
      "C:\\Users\\gilgamesh\\Anaconda3\\lib\\site-packages\\keras\\engine\\functional.py:1410: CustomMaskWarning: Custom mask layers require a config and must override get_config. When loading, the custom mask layer must be passed to the custom_objects argument.\n",
      "  layer_config = serialize_layer_fn(layer)\n",
      "C:\\Users\\gilgamesh\\Anaconda3\\lib\\site-packages\\keras\\saving\\saved_model\\layer_serialization.py:112: CustomMaskWarning: Custom mask layers require a config and must override get_config. When loading, the custom mask layer must be passed to the custom_objects argument.\n",
      "  return generic_utils.serialize_keras_object(obj)\n"
     ]
    },
    {
     "name": "stdout",
     "output_type": "stream",
     "text": [
      "2368/2368 [==============================] - 459s 188ms/step - loss: 0.8020 - accuracy: 0.7804 - val_loss: 1.0789 - val_accuracy: 0.7283 - lr: 1.0000e-04\n",
      "Epoch 2/100\n",
      "2368/2368 [==============================] - 374s 158ms/step - loss: 0.4653 - accuracy: 0.8710 - val_loss: 1.2001 - val_accuracy: 0.7161 - lr: 1.0000e-04\n",
      "Epoch 3/100\n",
      "2368/2368 [==============================] - ETA: 0s - loss: 0.2405 - accuracy: 0.9322\n",
      "Epoch 00003: ReduceLROnPlateau reducing learning rate to 1.9999999494757503e-05.\n",
      "2368/2368 [==============================] - 374s 158ms/step - loss: 0.2405 - accuracy: 0.9322 - val_loss: 1.4030 - val_accuracy: 0.7121 - lr: 1.0000e-04\n",
      "Epoch 4/100\n",
      "2368/2368 [==============================] - 372s 157ms/step - loss: 0.0707 - accuracy: 0.9816 - val_loss: 1.5966 - val_accuracy: 0.7251 - lr: 2.0000e-05\n"
     ]
    }
   ],
   "source": [
    "history_101_food_classes_all_data_fine_tune = loaded_saved_model.fit(train_data_100_percent,\n",
    "                                                        epochs=100, # fine-tune for a maximum of 100 epochs\n",
    "                                                        steps_per_epoch=len(train_data_100_percent),\n",
    "                                                        validation_data=test_data,\n",
    "                                                        validation_steps=int(0.15 * len(test_data)), # validation during training on 15% of test data\n",
    "                                                        callbacks=[\n",
    "                                                            lr_callback,\n",
    "                                                            earlystopping_callback,\n",
    "                                                            checkpoint_callback, \n",
    "                                                            create_tensorboard_callback(\n",
    "                                                                dir_name=tensorboard_path,\n",
    "                                                                experiment_name='efficientnetb4_101_data_extraction')])"
   ]
  },
  {
   "cell_type": "code",
   "execution_count": 48,
   "id": "16d04a4e",
   "metadata": {},
   "outputs": [
    {
     "name": "stdout",
     "output_type": "stream",
     "text": [
      "790/790 [==============================] - 36s 46ms/step - loss: 1.4027 - accuracy: 0.7485\n"
     ]
    },
    {
     "data": {
      "text/plain": [
       "[1.4026633501052856, 0.7485148310661316]"
      ]
     },
     "execution_count": 48,
     "metadata": {},
     "output_type": "execute_result"
    }
   ],
   "source": [
    "loaded_saved_model.evaluate(test_data)"
   ]
  },
  {
   "cell_type": "code",
   "execution_count": 49,
   "id": "8170c9de",
   "metadata": {},
   "outputs": [
    {
     "name": "stdout",
     "output_type": "stream",
     "text": [
      "INFO:tensorflow:Assets written to: 07_efficientnetb0_fine_tuned_101_classes_mixed_precision\\assets\n"
     ]
    },
    {
     "name": "stderr",
     "output_type": "stream",
     "text": [
      "C:\\Users\\gilgamesh\\Anaconda3\\lib\\site-packages\\keras\\engine\\functional.py:1410: CustomMaskWarning: Custom mask layers require a config and must override get_config. When loading, the custom mask layer must be passed to the custom_objects argument.\n",
      "  layer_config = serialize_layer_fn(layer)\n",
      "C:\\Users\\gilgamesh\\Anaconda3\\lib\\site-packages\\keras\\saving\\saved_model\\layer_serialization.py:112: CustomMaskWarning: Custom mask layers require a config and must override get_config. When loading, the custom mask layer must be passed to the custom_objects argument.\n",
      "  return generic_utils.serialize_keras_object(obj)\n"
     ]
    }
   ],
   "source": [
    "loaded_saved_model.save(\"07_efficientnetb0_fine_tuned_101_classes_mixed_precision\")\n"
   ]
  },
  {
   "cell_type": "markdown",
   "id": "a13fbb3e",
   "metadata": {},
   "source": [
    "#### Model 1"
   ]
  },
  {
   "cell_type": "markdown",
   "id": "1877a6b9",
   "metadata": {},
   "source": [
    "------------"
   ]
  },
  {
   "cell_type": "code",
   "execution_count": 7,
   "id": "fabfe01b",
   "metadata": {},
   "outputs": [],
   "source": [
    "data_augmentation = tf.keras.Sequential([\n",
    "    tf.keras.layers.RandomFlip('horizontal'),\n",
    "    tf.keras.layers.RandomHeight(0.2),\n",
    "    tf.keras.layers.RandomRotation(0.2),\n",
    "    tf.keras.layers.RandomWidth(0.2),\n",
    "    tf.keras.layers.RandomZoom(0.2)\n",
    "    #tf.keras.layers.Rescaling(1./255), # no need for Effnet\n",
    "])"
   ]
  },
  {
   "cell_type": "code",
   "execution_count": 33,
   "id": "ffecc26e",
   "metadata": {},
   "outputs": [],
   "source": [
    "checkpoint_path = './Food-Vision-REDO/checkpoint/'"
   ]
  },
  {
   "cell_type": "code",
   "execution_count": 34,
   "id": "7a2a0806",
   "metadata": {},
   "outputs": [],
   "source": [
    "base_model = tf.keras.applications.EfficientNetB4(include_top=False)\n",
    "base_model.trainable = False\n",
    "\n",
    "inputs = tf.keras.Input(shape=IMG_SIZE+(3,), name='input_layer')\n",
    "x = data_augmentation(inputs)\n",
    "x = base_model(x, training=False)\n",
    "x = tf.keras.layers.GlobalAveragePooling2D(name='global_avg_pooling')(x)\n",
    "x = tf.keras.layers.Dense(len(class_list_all), name='dense_layer')(x)\n",
    "outputs = tf.keras.layers.Activation('softmax', dtype=tf.float32, name='output_layer')(x)\n",
    "\n",
    "model_0 = tf.keras.Model(inputs, outputs)\n",
    "\n",
    "model_0.compile(loss=tf.keras.losses.CategoricalCrossentropy(),\n",
    "                optimizer=tf.keras.optimizers.Adam(0.001),\n",
    "                metrics=['accuracy'])\n"
   ]
  },
  {
   "cell_type": "code",
   "execution_count": 35,
   "id": "964efd8f",
   "metadata": {},
   "outputs": [],
   "source": [
    "checkpoint_callback = create_checkpoint_callback(\n",
    "    checkpoint_path=checkpoint_path,\n",
    "    metric='val_loss',\n",
    "    save_best=True,\n",
    "    save_weights=True\n",
    ")"
   ]
  },
  {
   "cell_type": "code",
   "execution_count": 36,
   "id": "dc53a3f3",
   "metadata": {},
   "outputs": [
    {
     "name": "stdout",
     "output_type": "stream",
     "text": [
      "Saving Tensorboard logfiles to ./Food-Vision-REDO/transfer_learning//logs/fits/efficientnetb4_101_data_extraction_augmented/20211117-191837\n"
     ]
    },
    {
     "name": "stderr",
     "output_type": "stream",
     "text": [
      "C:\\Users\\gilgamesh\\Anaconda3\\lib\\site-packages\\keras\\engine\\functional.py:1410: CustomMaskWarning: Custom mask layers require a config and must override get_config. When loading, the custom mask layer must be passed to the custom_objects argument.\n",
      "  layer_config = serialize_layer_fn(layer)\n"
     ]
    },
    {
     "name": "stdout",
     "output_type": "stream",
     "text": [
      "Epoch 1/5\n",
      "2368/2368 [==============================] - 143s 57ms/step - loss: 2.1850 - accuracy: 0.4750 - val_loss: 1.7288 - val_accuracy: 0.5691\n",
      "Epoch 2/5\n",
      "2368/2368 [==============================] - 132s 56ms/step - loss: 1.6958 - accuracy: 0.5688 - val_loss: 1.5499 - val_accuracy: 0.5985\n",
      "Epoch 3/5\n",
      "2368/2368 [==============================] - 135s 57ms/step - loss: 1.5768 - accuracy: 0.5955 - val_loss: 1.5248 - val_accuracy: 0.6073\n",
      "Epoch 4/5\n",
      "2368/2368 [==============================] - 134s 56ms/step - loss: 1.5072 - accuracy: 0.6102 - val_loss: 1.4777 - val_accuracy: 0.6194\n",
      "Epoch 5/5\n",
      "2368/2368 [==============================] - 137s 58ms/step - loss: 1.4534 - accuracy: 0.6222 - val_loss: 1.4812 - val_accuracy: 0.6197\n"
     ]
    }
   ],
   "source": [
    "model_0_history = model_0.fit(\n",
    "    train_data_100_percent,\n",
    "    epochs=5,\n",
    "    steps_per_epoch=len(train_data_100_percent),\n",
    "    validation_data=test_data,\n",
    "    validation_steps=int(0.15*len(test_data)),\n",
    "    callbacks=[checkpoint_callback, \n",
    "               create_tensorboard_callback(\n",
    "                   dir_name=tensorboard_path,\n",
    "                   experiment_name='efficientnetb4_101_data_extraction_augmented')]\n",
    ")"
   ]
  },
  {
   "cell_type": "code",
   "execution_count": 37,
   "id": "83e35278",
   "metadata": {},
   "outputs": [
    {
     "name": "stdout",
     "output_type": "stream",
     "text": [
      "790/790 [==============================] - 50s 63ms/step - loss: 1.4443 - accuracy: 0.6251\n"
     ]
    },
    {
     "data": {
      "text/plain": [
       "[1.4443165063858032, 0.6250693202018738]"
      ]
     },
     "execution_count": 37,
     "metadata": {},
     "output_type": "execute_result"
    }
   ],
   "source": [
    "model_0.evaluate(test_data)"
   ]
  },
  {
   "cell_type": "code",
   "execution_count": 38,
   "id": "6a291bed",
   "metadata": {},
   "outputs": [
    {
     "name": "stderr",
     "output_type": "stream",
     "text": [
      "C:\\Users\\gilgamesh\\Anaconda3\\lib\\site-packages\\keras\\engine\\functional.py:1410: CustomMaskWarning: Custom mask layers require a config and must override get_config. When loading, the custom mask layer must be passed to the custom_objects argument.\n",
      "  layer_config = serialize_layer_fn(layer)\n"
     ]
    }
   ],
   "source": [
    "cloned_model = tf.keras.models.clone_model(model_0)"
   ]
  },
  {
   "cell_type": "code",
   "execution_count": 43,
   "id": "582bd994",
   "metadata": {},
   "outputs": [
    {
     "data": {
      "text/plain": [
       "<tensorflow.python.training.tracking.util.CheckpointLoadStatus at 0x1b8efab05e0>"
      ]
     },
     "execution_count": 43,
     "metadata": {},
     "output_type": "execute_result"
    }
   ],
   "source": [
    "cloned_model.load_weights(checkpoint_path)"
   ]
  },
  {
   "cell_type": "code",
   "execution_count": 42,
   "id": "ffd7f47c",
   "metadata": {},
   "outputs": [],
   "source": [
    "cloned_model.compile(loss=tf.keras.losses.CategoricalCrossentropy(),\n",
    "                optimizer=tf.keras.optimizers.Adam(0.001),\n",
    "                metrics=['accuracy'])\n"
   ]
  },
  {
   "cell_type": "code",
   "execution_count": 44,
   "id": "7761854c",
   "metadata": {},
   "outputs": [
    {
     "name": "stdout",
     "output_type": "stream",
     "text": [
      "790/790 [==============================] - 39s 47ms/step - loss: 1.9802 - accuracy: 0.4982\n"
     ]
    },
    {
     "data": {
      "text/plain": [
       "[1.9802073240280151, 0.4982178211212158]"
      ]
     },
     "execution_count": 44,
     "metadata": {},
     "output_type": "execute_result"
    }
   ],
   "source": [
    "cloned_model.evaluate(test_data)"
   ]
  },
  {
   "cell_type": "code",
   "execution_count": 45,
   "id": "7a314191",
   "metadata": {},
   "outputs": [
    {
     "name": "stdout",
     "output_type": "stream",
     "text": [
      "input_layer True float32 <Policy \"float32\">\n",
      "sequential True float32 <Policy \"mixed_float16\">\n",
      "efficientnetb0 True float32 <Policy \"mixed_float16\">\n",
      "global_avg_pooling True float32 <Policy \"mixed_float16\">\n",
      "dense_layer True float32 <Policy \"mixed_float16\">\n",
      "output_layer True float32 <Policy \"float32\">\n"
     ]
    }
   ],
   "source": [
    "for layer in cloned_model.layers:\n",
    "  layer.trainable = True # set all layers to trainable\n",
    "  print(layer.name, layer.trainable, layer.dtype, layer.dtype_policy)\n",
    "  \n",
    "cloned_model.compile(loss=tf.keras.losses.CategoricalCrossentropy(),\n",
    "                     optimizer=tf.keras.optimizers.Adam(0.0001),\n",
    "                     metrics=[\"accuracy\"])"
   ]
  },
  {
   "cell_type": "code",
   "execution_count": 50,
   "id": "ffd771a3",
   "metadata": {},
   "outputs": [],
   "source": [
    "checkpoint_path = checkpoint_path + 'fine_tune_checkpoints/'\n",
    "#checkpoint_callback = create_checkpoint_callback(checkpoint_path=checkpoint_path,metric='val_loss',save_best=True)\n",
    "\n",
    "checkpoint_callback = tf.keras.callbacks.ModelCheckpoint(\n",
    "    checkpoint_path,\n",
    "    monitor='val_loss',\n",
    "    save_best_only=True,\n",
    "    save_weights_only=True\n",
    "                                                        )"
   ]
  },
  {
   "cell_type": "code",
   "execution_count": 51,
   "id": "dc5a04d7",
   "metadata": {},
   "outputs": [
    {
     "name": "stdout",
     "output_type": "stream",
     "text": [
      "Saving Tensorboard logfiles to ./Food-Vision-REDO/transfer_learning//logs/fits/efficientnetb4_101_data_extraction/20211117-195903\n"
     ]
    },
    {
     "name": "stderr",
     "output_type": "stream",
     "text": [
      "C:\\Users\\gilgamesh\\Anaconda3\\lib\\site-packages\\keras\\engine\\functional.py:1410: CustomMaskWarning: Custom mask layers require a config and must override get_config. When loading, the custom mask layer must be passed to the custom_objects argument.\n",
      "  layer_config = serialize_layer_fn(layer)\n"
     ]
    },
    {
     "name": "stdout",
     "output_type": "stream",
     "text": [
      "Epoch 1/100\n",
      "2368/2368 [==============================] - 401s 168ms/step - loss: 0.8008 - accuracy: 0.7786 - val_loss: 0.9880 - val_accuracy: 0.7434 - lr: 1.0000e-04\n",
      "Epoch 2/100\n",
      "2368/2368 [==============================] - 415s 175ms/step - loss: 0.6710 - accuracy: 0.8107 - val_loss: 1.0064 - val_accuracy: 0.7331 - lr: 1.0000e-04\n",
      "Epoch 3/100\n",
      "2368/2368 [==============================] - ETA: 0s - loss: 0.5713 - accuracy: 0.8357\n",
      "Epoch 00003: ReduceLROnPlateau reducing learning rate to 1.9999999494757503e-05.\n",
      "2368/2368 [==============================] - 396s 167ms/step - loss: 0.5713 - accuracy: 0.8357 - val_loss: 1.0385 - val_accuracy: 0.7357 - lr: 1.0000e-04\n",
      "Epoch 4/100\n",
      "2368/2368 [==============================] - 392s 165ms/step - loss: 0.3693 - accuracy: 0.8931 - val_loss: 1.0769 - val_accuracy: 0.7458 - lr: 2.0000e-05\n",
      "Epoch 5/100\n",
      "2368/2368 [==============================] - ETA: 0s - loss: 0.3263 - accuracy: 0.9044\n",
      "Epoch 00005: ReduceLROnPlateau reducing learning rate to 3.999999898951501e-06.\n",
      "2368/2368 [==============================] - 393s 166ms/step - loss: 0.3263 - accuracy: 0.9044 - val_loss: 1.1202 - val_accuracy: 0.7341 - lr: 2.0000e-05\n",
      "Epoch 6/100\n",
      "2368/2368 [==============================] - 392s 166ms/step - loss: 0.2786 - accuracy: 0.9184 - val_loss: 1.1256 - val_accuracy: 0.7458 - lr: 4.0000e-06\n",
      "Epoch 7/100\n",
      "2368/2368 [==============================] - ETA: 0s - loss: 0.2685 - accuracy: 0.9202\n",
      "Epoch 00007: ReduceLROnPlateau reducing learning rate to 7.999999979801942e-07.\n",
      "2368/2368 [==============================] - 400s 169ms/step - loss: 0.2685 - accuracy: 0.9202 - val_loss: 1.1254 - val_accuracy: 0.7458 - lr: 4.0000e-06\n"
     ]
    }
   ],
   "source": [
    "history_101_food_classes_all_data_fine_tune = cloned_model.fit(train_data_100_percent,\n",
    "                                                        epochs=100, # fine-tune for a maximum of 100 epochs\n",
    "                                                        steps_per_epoch=len(train_data_100_percent),\n",
    "                                                        validation_data=test_data,\n",
    "                                                        validation_steps=int(0.15 * len(test_data)), # validation during training on 15% of test data\n",
    "                                                        callbacks=[\n",
    "                                                            lr_callback,\n",
    "                                                            earlystopping_callback,\n",
    "                                                            checkpoint_callback, \n",
    "                                                            create_tensorboard_callback(\n",
    "                                                                dir_name=tensorboard_path,\n",
    "                                                                experiment_name='efficientnetb4_101_data_extraction')])"
   ]
  },
  {
   "cell_type": "code",
   "execution_count": 52,
   "id": "815dac17",
   "metadata": {
    "scrolled": true
   },
   "outputs": [
    {
     "name": "stdout",
     "output_type": "stream",
     "text": [
      "790/790 [==============================] - 51s 65ms/step - loss: 1.1365 - accuracy: 0.7488\n"
     ]
    },
    {
     "data": {
      "text/plain": [
       "[1.136499047279358, 0.7487524747848511]"
      ]
     },
     "execution_count": 52,
     "metadata": {},
     "output_type": "execute_result"
    }
   ],
   "source": [
    "cloned_model.evaluate(test_data)"
   ]
  },
  {
   "cell_type": "code",
   "execution_count": 53,
   "id": "7660e80d",
   "metadata": {},
   "outputs": [
    {
     "name": "stderr",
     "output_type": "stream",
     "text": [
      "C:\\Users\\gilgamesh\\Anaconda3\\lib\\site-packages\\keras\\engine\\functional.py:1410: CustomMaskWarning: Custom mask layers require a config and must override get_config. When loading, the custom mask layer must be passed to the custom_objects argument.\n",
      "  layer_config = serialize_layer_fn(layer)\n"
     ]
    }
   ],
   "source": [
    "cloned_model.save('E:\\Projects\\Food Vision\\Food-Vision-REDO\\models\\101_food_classes_74_percent.h5')"
   ]
  },
  {
   "cell_type": "markdown",
   "id": "1e4c29fd",
   "metadata": {},
   "source": [
    "### Takeaways\n",
    "-----------------\n",
    "**Process:** \n",
    "* Generate the Base Model first  \n",
    "> If it's overfitting the training set, either add more data or augment the data  \n",
    "in our case we've reached almost perfect training results using our training data,  \n",
    "but our validation data isn't doing very well as a result, it overfits  \n",
    "so we did augmentation to feed our model more varieties of data to learn from.  \n",
    "  \n",
    "* plot history on every model.  \n",
    "  \n",
    "* Make a new checkpoint path for every model,  \n",
    "  \n",
    "* Save our model as h5,  \n",
    "  \n",
    "* We can clone our model -> load weights from checkpoint -> **compile** -> evaluate  \n",
    "  \n",
    "**always compile before fitting** even after loading the model    \n",
    "  \n",
    "\n",
    "  -----------------\n",
    "\n",
    "From there we can use our pretrained model for **Fine Tuning**  \n",
    "  \n",
    "**compile** after turning layers trainable  \n",
    "  \n",
    "i.e. increasing epochs, making layers trainable, and doing a lr callback\n",
    "\n",
    "-----------------\n",
    "**Preprocessing and Training:**  \n",
    "Use mixed precision, it helps with training time.  \n",
    "use prefetch to preload data helps with training time  \n"
   ]
  }
 ],
 "metadata": {
  "kernelspec": {
   "display_name": "Python 3",
   "language": "python",
   "name": "python3"
  },
  "language_info": {
   "codemirror_mode": {
    "name": "ipython",
    "version": 3
   },
   "file_extension": ".py",
   "mimetype": "text/x-python",
   "name": "python",
   "nbconvert_exporter": "python",
   "pygments_lexer": "ipython3",
   "version": "3.8.8"
  },
  "toc": {
   "base_numbering": 1,
   "nav_menu": {},
   "number_sections": true,
   "sideBar": true,
   "skip_h1_title": false,
   "title_cell": "Table of Contents",
   "title_sidebar": "Contents",
   "toc_cell": false,
   "toc_position": {
    "height": "calc(100% - 180px)",
    "left": "10px",
    "top": "150px",
    "width": "221px"
   },
   "toc_section_display": true,
   "toc_window_display": true
  }
 },
 "nbformat": 4,
 "nbformat_minor": 5
}
